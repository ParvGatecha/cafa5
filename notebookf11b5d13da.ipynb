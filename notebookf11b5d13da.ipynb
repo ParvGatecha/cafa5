{
 "cells": [
  {
   "cell_type": "code",
   "execution_count": 1,
   "id": "fce95fd5",
   "metadata": {
    "_cell_guid": "b1076dfc-b9ad-4769-8c92-a6c4dae69d19",
    "_uuid": "8f2839f25d086af736a60e9eeb907d3b93b6e0e5",
    "execution": {
     "iopub.execute_input": "2023-05-10T02:47:29.488692Z",
     "iopub.status.busy": "2023-05-10T02:47:29.488251Z",
     "iopub.status.idle": "2023-05-10T02:47:29.518895Z",
     "shell.execute_reply": "2023-05-10T02:47:29.517743Z"
    },
    "papermill": {
     "duration": 0.065709,
     "end_time": "2023-05-10T02:47:29.521980",
     "exception": false,
     "start_time": "2023-05-10T02:47:29.456271",
     "status": "completed"
    },
    "tags": []
   },
   "outputs": [
    {
     "name": "stdout",
     "output_type": "stream",
     "text": [
      "/kaggle/input/submissiontsv/submission.tsv\n",
      "/kaggle/input/cafa-5-protein-function-prediction/sample_submission.tsv\n",
      "/kaggle/input/cafa-5-protein-function-prediction/IA.txt\n",
      "/kaggle/input/cafa-5-protein-function-prediction/Test (Targets)/testsuperset.fasta\n",
      "/kaggle/input/cafa-5-protein-function-prediction/Test (Targets)/testsuperset-taxon-list.tsv\n",
      "/kaggle/input/cafa-5-protein-function-prediction/Train/train_terms.tsv\n",
      "/kaggle/input/cafa-5-protein-function-prediction/Train/train_sequences.fasta\n",
      "/kaggle/input/cafa-5-protein-function-prediction/Train/train_taxonomy.tsv\n",
      "/kaggle/input/cafa-5-protein-function-prediction/Train/go-basic.obo\n"
     ]
    }
   ],
   "source": [
    "# This Python 3 environment comes with many helpful analytics libraries installed\n",
    "# It is defined by the kaggle/python Docker image: https://github.com/kaggle/docker-python\n",
    "# For example, here's several helpful packages to load\n",
    "\n",
    "import numpy as np # linear algebra\n",
    "import pandas as pd # data processing, CSV file I/O (e.g. pd.read_csv)\n",
    "\n",
    "# Input data files are available in the read-only \"../input/\" directory\n",
    "# For example, running this (by clicking run or pressing Shift+Enter) will list all files under the input directory\n",
    "\n",
    "import os\n",
    "for dirname, _, filenames in os.walk('/kaggle/input'):\n",
    "    for filename in filenames:\n",
    "        print(os.path.join(dirname, filename))\n",
    "\n",
    "# You can write up to 20GB to the current directory (/kaggle/working/) that gets preserved as output when you create a version using \"Save & Run All\" \n",
    "# You can also write temporary files to /kaggle/temp/, but they won't be saved outside of the current session"
   ]
  },
  {
   "cell_type": "code",
   "execution_count": 2,
   "id": "88007cf0",
   "metadata": {
    "execution": {
     "iopub.execute_input": "2023-05-10T02:47:29.583895Z",
     "iopub.status.busy": "2023-05-10T02:47:29.583466Z",
     "iopub.status.idle": "2023-05-10T02:47:45.785241Z",
     "shell.execute_reply": "2023-05-10T02:47:45.783942Z"
    },
    "papermill": {
     "duration": 16.236005,
     "end_time": "2023-05-10T02:47:45.788022",
     "exception": false,
     "start_time": "2023-05-10T02:47:29.552017",
     "status": "completed"
    },
    "tags": []
   },
   "outputs": [
    {
     "name": "stderr",
     "output_type": "stream",
     "text": [
      "/opt/conda/lib/python3.10/site-packages/scipy/__init__.py:146: UserWarning: A NumPy version >=1.16.5 and <1.23.0 is required for this version of SciPy (detected version 1.23.5\n",
      "  warnings.warn(f\"A NumPy version >={np_minversion} and <{np_maxversion}\"\n"
     ]
    }
   ],
   "source": [
    "import numpy as np\n",
    "import pandas as pd\n",
    "from tqdm import tqdm\n",
    "import networkx\n",
    "import h5py\n",
    "#import obonet\n",
    "from Bio import SeqIO\n",
    "import re\n",
    "from Bio.SeqUtils.ProtParam import ProteinAnalysis\n",
    "import gc\n",
    "import pickle\n",
    "import psutil\n",
    "import torch\n",
    "import joblib\n",
    "from transformers import T5EncoderModel, T5Tokenizer\n",
    "#from tape import ProteinBertModel, UniRepModel, TAPETokenizer"
   ]
  },
  {
   "cell_type": "markdown",
   "id": "be0853de",
   "metadata": {
    "papermill": {
     "duration": 0.030019,
     "end_time": "2023-05-10T02:47:45.848295",
     "exception": false,
     "start_time": "2023-05-10T02:47:45.818276",
     "status": "completed"
    },
    "tags": []
   },
   "source": [
    "Getting the protein sequence from fasta files"
   ]
  },
  {
   "cell_type": "code",
   "execution_count": 3,
   "id": "b2f012ec",
   "metadata": {
    "execution": {
     "iopub.execute_input": "2023-05-10T02:47:45.909858Z",
     "iopub.status.busy": "2023-05-10T02:47:45.909436Z",
     "iopub.status.idle": "2023-05-10T02:47:48.616278Z",
     "shell.execute_reply": "2023-05-10T02:47:48.615241Z"
    },
    "papermill": {
     "duration": 2.740526,
     "end_time": "2023-05-10T02:47:48.618535",
     "exception": false,
     "start_time": "2023-05-10T02:47:45.878009",
     "status": "completed"
    },
    "tags": []
   },
   "outputs": [
    {
     "name": "stdout",
     "output_type": "stream",
     "text": [
      "142246\n"
     ]
    }
   ],
   "source": [
    "id = []\n",
    "seq = [] \n",
    "\n",
    "for seq_record in SeqIO.parse(\"/kaggle/input/cafa-5-protein-function-prediction/Train/train_sequences.fasta\", \"fasta\"):\n",
    "    id.append(seq_record.id)\n",
    "    seq.append(str(seq_record.seq))\n",
    "\n",
    "print(len(id))"
   ]
  },
  {
   "cell_type": "code",
   "execution_count": 4,
   "id": "d450216c",
   "metadata": {
    "execution": {
     "iopub.execute_input": "2023-05-10T02:47:48.680510Z",
     "iopub.status.busy": "2023-05-10T02:47:48.679752Z",
     "iopub.status.idle": "2023-05-10T02:47:48.762405Z",
     "shell.execute_reply": "2023-05-10T02:47:48.761254Z"
    },
    "papermill": {
     "duration": 0.116365,
     "end_time": "2023-05-10T02:47:48.765071",
     "exception": false,
     "start_time": "2023-05-10T02:47:48.648706",
     "status": "completed"
    },
    "tags": []
   },
   "outputs": [
    {
     "data": {
      "text/html": [
       "<div>\n",
       "<style scoped>\n",
       "    .dataframe tbody tr th:only-of-type {\n",
       "        vertical-align: middle;\n",
       "    }\n",
       "\n",
       "    .dataframe tbody tr th {\n",
       "        vertical-align: top;\n",
       "    }\n",
       "\n",
       "    .dataframe thead th {\n",
       "        text-align: right;\n",
       "    }\n",
       "</style>\n",
       "<table border=\"1\" class=\"dataframe\">\n",
       "  <thead>\n",
       "    <tr style=\"text-align: right;\">\n",
       "      <th></th>\n",
       "      <th>id</th>\n",
       "      <th>sequence</th>\n",
       "    </tr>\n",
       "  </thead>\n",
       "  <tbody>\n",
       "    <tr>\n",
       "      <th>0</th>\n",
       "      <td>P20536</td>\n",
       "      <td>MNSVTVSHAPYTITYHDDWEPVMSQLVEFYNEVASWLLRDETSPIP...</td>\n",
       "    </tr>\n",
       "    <tr>\n",
       "      <th>1</th>\n",
       "      <td>O73864</td>\n",
       "      <td>MTEYRNFLLLFITSLSVIYPCTGISWLGLTINGSSVGWNQTHHCKL...</td>\n",
       "    </tr>\n",
       "    <tr>\n",
       "      <th>2</th>\n",
       "      <td>O95231</td>\n",
       "      <td>MRLSSSPPRGPQQLSSFGSVDWLSQSSCSGPTHTPRPADFSLGSLP...</td>\n",
       "    </tr>\n",
       "    <tr>\n",
       "      <th>3</th>\n",
       "      <td>A0A0B4J1F4</td>\n",
       "      <td>MGGEAGADGPRGRVKSLGLVFEDESKGCYSSGETVAGHVLLEAAEP...</td>\n",
       "    </tr>\n",
       "    <tr>\n",
       "      <th>4</th>\n",
       "      <td>P54366</td>\n",
       "      <td>MVETNSPPAGYTLKRSPSDLGEQQQPPRQISRSPGNTAAYHLTTAM...</td>\n",
       "    </tr>\n",
       "  </tbody>\n",
       "</table>\n",
       "</div>"
      ],
      "text/plain": [
       "           id                                           sequence\n",
       "0      P20536  MNSVTVSHAPYTITYHDDWEPVMSQLVEFYNEVASWLLRDETSPIP...\n",
       "1      O73864  MTEYRNFLLLFITSLSVIYPCTGISWLGLTINGSSVGWNQTHHCKL...\n",
       "2      O95231  MRLSSSPPRGPQQLSSFGSVDWLSQSSCSGPTHTPRPADFSLGSLP...\n",
       "3  A0A0B4J1F4  MGGEAGADGPRGRVKSLGLVFEDESKGCYSSGETVAGHVLLEAAEP...\n",
       "4      P54366  MVETNSPPAGYTLKRSPSDLGEQQQPPRQISRSPGNTAAYHLTTAM..."
      ]
     },
     "execution_count": 4,
     "metadata": {},
     "output_type": "execute_result"
    }
   ],
   "source": [
    "seq_df = pd.DataFrame({\"id\": id, \"sequence\": seq})\n",
    "del id\n",
    "del seq\n",
    "seq_df.head()"
   ]
  },
  {
   "cell_type": "code",
   "execution_count": 5,
   "id": "95651d9e",
   "metadata": {
    "execution": {
     "iopub.execute_input": "2023-05-10T02:47:48.828764Z",
     "iopub.status.busy": "2023-05-10T02:47:48.828389Z",
     "iopub.status.idle": "2023-05-10T02:47:49.130137Z",
     "shell.execute_reply": "2023-05-10T02:47:49.129044Z"
    },
    "papermill": {
     "duration": 0.336881,
     "end_time": "2023-05-10T02:47:49.132427",
     "exception": false,
     "start_time": "2023-05-10T02:47:48.795546",
     "status": "completed"
    },
    "tags": []
   },
   "outputs": [
    {
     "data": {
      "text/plain": [
       "0"
      ]
     },
     "execution_count": 5,
     "metadata": {},
     "output_type": "execute_result"
    }
   ],
   "source": [
    "gc.collect()"
   ]
  },
  {
   "cell_type": "code",
   "execution_count": 6,
   "id": "bfe9a90e",
   "metadata": {
    "execution": {
     "iopub.execute_input": "2023-05-10T02:47:49.195642Z",
     "iopub.status.busy": "2023-05-10T02:47:49.195210Z",
     "iopub.status.idle": "2023-05-10T02:47:49.535509Z",
     "shell.execute_reply": "2023-05-10T02:47:49.534496Z"
    },
    "papermill": {
     "duration": 0.3749,
     "end_time": "2023-05-10T02:47:49.537894",
     "exception": false,
     "start_time": "2023-05-10T02:47:49.162994",
     "status": "completed"
    },
    "tags": []
   },
   "outputs": [
    {
     "data": {
      "text/html": [
       "<div>\n",
       "<style scoped>\n",
       "    .dataframe tbody tr th:only-of-type {\n",
       "        vertical-align: middle;\n",
       "    }\n",
       "\n",
       "    .dataframe tbody tr th {\n",
       "        vertical-align: top;\n",
       "    }\n",
       "\n",
       "    .dataframe thead th {\n",
       "        text-align: right;\n",
       "    }\n",
       "</style>\n",
       "<table border=\"1\" class=\"dataframe\">\n",
       "  <thead>\n",
       "    <tr style=\"text-align: right;\">\n",
       "      <th></th>\n",
       "      <th>id</th>\n",
       "      <th>sequence</th>\n",
       "    </tr>\n",
       "  </thead>\n",
       "  <tbody>\n",
       "    <tr>\n",
       "      <th>0</th>\n",
       "      <td>A0A009IHW8</td>\n",
       "      <td>MSLEQKKGADIISKILQIQNSIGKTTSPSTLKTKLSEISRKEQENA...</td>\n",
       "    </tr>\n",
       "    <tr>\n",
       "      <th>1</th>\n",
       "      <td>A0A021WW32</td>\n",
       "      <td>MFYEHIILAKKGPLARIWLAAHWDKKITKAHVFETNIEKSVEGILQ...</td>\n",
       "    </tr>\n",
       "    <tr>\n",
       "      <th>2</th>\n",
       "      <td>A0A021WZA4</td>\n",
       "      <td>MKYINCTQPAIDDFPRDLFSEAQRQSGAVVLHVIASLYLFVALAVV...</td>\n",
       "    </tr>\n",
       "    <tr>\n",
       "      <th>3</th>\n",
       "      <td>A0A023FBW4</td>\n",
       "      <td>MTSHGAVKIAIFAVIALHSIFECLSKPQILQRTDHSTDSDWDPQMC...</td>\n",
       "    </tr>\n",
       "    <tr>\n",
       "      <th>4</th>\n",
       "      <td>A0A023FBW7</td>\n",
       "      <td>MKVLLYIAASCLMLLALNVSAENTQQEEEDYDYGTDTCPFPVLANK...</td>\n",
       "    </tr>\n",
       "  </tbody>\n",
       "</table>\n",
       "</div>"
      ],
      "text/plain": [
       "           id                                           sequence\n",
       "0  A0A009IHW8  MSLEQKKGADIISKILQIQNSIGKTTSPSTLKTKLSEISRKEQENA...\n",
       "1  A0A021WW32  MFYEHIILAKKGPLARIWLAAHWDKKITKAHVFETNIEKSVEGILQ...\n",
       "2  A0A021WZA4  MKYINCTQPAIDDFPRDLFSEAQRQSGAVVLHVIASLYLFVALAVV...\n",
       "3  A0A023FBW4  MTSHGAVKIAIFAVIALHSIFECLSKPQILQRTDHSTDSDWDPQMC...\n",
       "4  A0A023FBW7  MKVLLYIAASCLMLLALNVSAENTQQEEEDYDYGTDTCPFPVLANK..."
      ]
     },
     "execution_count": 6,
     "metadata": {},
     "output_type": "execute_result"
    }
   ],
   "source": [
    "seq_df = seq_df.sort_values(\"id\").reset_index().drop(\"index\", axis = 1)\n",
    "seq_df.head()"
   ]
  },
  {
   "cell_type": "markdown",
   "id": "4068b599",
   "metadata": {
    "papermill": {
     "duration": 0.035747,
     "end_time": "2023-05-10T02:47:49.615541",
     "exception": false,
     "start_time": "2023-05-10T02:47:49.579794",
     "status": "completed"
    },
    "tags": []
   },
   "source": [
    "**Extract other features**"
   ]
  },
  {
   "cell_type": "code",
   "execution_count": 7,
   "id": "fad473ac",
   "metadata": {
    "execution": {
     "iopub.execute_input": "2023-05-10T02:47:49.686021Z",
     "iopub.status.busy": "2023-05-10T02:47:49.685343Z",
     "iopub.status.idle": "2023-05-10T02:47:55.806274Z",
     "shell.execute_reply": "2023-05-10T02:47:55.805014Z"
    },
    "papermill": {
     "duration": 6.156162,
     "end_time": "2023-05-10T02:47:55.809271",
     "exception": false,
     "start_time": "2023-05-10T02:47:49.653109",
     "status": "completed"
    },
    "tags": []
   },
   "outputs": [
    {
     "data": {
      "text/html": [
       "<div>\n",
       "<style scoped>\n",
       "    .dataframe tbody tr th:only-of-type {\n",
       "        vertical-align: middle;\n",
       "    }\n",
       "\n",
       "    .dataframe tbody tr th {\n",
       "        vertical-align: top;\n",
       "    }\n",
       "\n",
       "    .dataframe thead th {\n",
       "        text-align: right;\n",
       "    }\n",
       "</style>\n",
       "<table border=\"1\" class=\"dataframe\">\n",
       "  <thead>\n",
       "    <tr style=\"text-align: right;\">\n",
       "      <th></th>\n",
       "      <th>A</th>\n",
       "      <th>C</th>\n",
       "      <th>D</th>\n",
       "      <th>E</th>\n",
       "      <th>F</th>\n",
       "      <th>G</th>\n",
       "      <th>H</th>\n",
       "      <th>I</th>\n",
       "      <th>K</th>\n",
       "      <th>L</th>\n",
       "      <th>M</th>\n",
       "      <th>N</th>\n",
       "      <th>P</th>\n",
       "      <th>Q</th>\n",
       "      <th>R</th>\n",
       "      <th>S</th>\n",
       "      <th>T</th>\n",
       "      <th>V</th>\n",
       "      <th>W</th>\n",
       "      <th>Y</th>\n",
       "    </tr>\n",
       "  </thead>\n",
       "  <tbody>\n",
       "    <tr>\n",
       "      <th>0</th>\n",
       "      <td>0.040892</td>\n",
       "      <td>0.000000</td>\n",
       "      <td>0.074349</td>\n",
       "      <td>0.085502</td>\n",
       "      <td>0.014870</td>\n",
       "      <td>0.029740</td>\n",
       "      <td>0.018587</td>\n",
       "      <td>0.096654</td>\n",
       "      <td>0.126394</td>\n",
       "      <td>0.107807</td>\n",
       "      <td>0.011152</td>\n",
       "      <td>0.055762</td>\n",
       "      <td>0.022305</td>\n",
       "      <td>0.055762</td>\n",
       "      <td>0.033457</td>\n",
       "      <td>0.081784</td>\n",
       "      <td>0.059480</td>\n",
       "      <td>0.048327</td>\n",
       "      <td>0.011152</td>\n",
       "      <td>0.026022</td>\n",
       "    </tr>\n",
       "    <tr>\n",
       "      <th>1</th>\n",
       "      <td>0.061611</td>\n",
       "      <td>0.006319</td>\n",
       "      <td>0.078989</td>\n",
       "      <td>0.082148</td>\n",
       "      <td>0.045814</td>\n",
       "      <td>0.058452</td>\n",
       "      <td>0.033175</td>\n",
       "      <td>0.067930</td>\n",
       "      <td>0.056872</td>\n",
       "      <td>0.091627</td>\n",
       "      <td>0.025276</td>\n",
       "      <td>0.067930</td>\n",
       "      <td>0.048973</td>\n",
       "      <td>0.030016</td>\n",
       "      <td>0.036335</td>\n",
       "      <td>0.082148</td>\n",
       "      <td>0.045814</td>\n",
       "      <td>0.056872</td>\n",
       "      <td>0.006319</td>\n",
       "      <td>0.017378</td>\n",
       "    </tr>\n",
       "    <tr>\n",
       "      <th>2</th>\n",
       "      <td>0.110220</td>\n",
       "      <td>0.032064</td>\n",
       "      <td>0.038076</td>\n",
       "      <td>0.038076</td>\n",
       "      <td>0.052104</td>\n",
       "      <td>0.076152</td>\n",
       "      <td>0.012024</td>\n",
       "      <td>0.086172</td>\n",
       "      <td>0.042084</td>\n",
       "      <td>0.094188</td>\n",
       "      <td>0.030060</td>\n",
       "      <td>0.038076</td>\n",
       "      <td>0.036072</td>\n",
       "      <td>0.022044</td>\n",
       "      <td>0.020040</td>\n",
       "      <td>0.068136</td>\n",
       "      <td>0.070140</td>\n",
       "      <td>0.088176</td>\n",
       "      <td>0.016032</td>\n",
       "      <td>0.030060</td>\n",
       "    </tr>\n",
       "    <tr>\n",
       "      <th>3</th>\n",
       "      <td>0.061856</td>\n",
       "      <td>0.072165</td>\n",
       "      <td>0.082474</td>\n",
       "      <td>0.041237</td>\n",
       "      <td>0.030928</td>\n",
       "      <td>0.092784</td>\n",
       "      <td>0.051546</td>\n",
       "      <td>0.061856</td>\n",
       "      <td>0.030928</td>\n",
       "      <td>0.061856</td>\n",
       "      <td>0.030928</td>\n",
       "      <td>0.041237</td>\n",
       "      <td>0.041237</td>\n",
       "      <td>0.041237</td>\n",
       "      <td>0.010309</td>\n",
       "      <td>0.113402</td>\n",
       "      <td>0.072165</td>\n",
       "      <td>0.041237</td>\n",
       "      <td>0.020619</td>\n",
       "      <td>0.000000</td>\n",
       "    </tr>\n",
       "    <tr>\n",
       "      <th>4</th>\n",
       "      <td>0.059322</td>\n",
       "      <td>0.076271</td>\n",
       "      <td>0.059322</td>\n",
       "      <td>0.093220</td>\n",
       "      <td>0.016949</td>\n",
       "      <td>0.076271</td>\n",
       "      <td>0.008475</td>\n",
       "      <td>0.008475</td>\n",
       "      <td>0.101695</td>\n",
       "      <td>0.093220</td>\n",
       "      <td>0.033898</td>\n",
       "      <td>0.059322</td>\n",
       "      <td>0.033898</td>\n",
       "      <td>0.033898</td>\n",
       "      <td>0.033898</td>\n",
       "      <td>0.025424</td>\n",
       "      <td>0.059322</td>\n",
       "      <td>0.067797</td>\n",
       "      <td>0.016949</td>\n",
       "      <td>0.042373</td>\n",
       "    </tr>\n",
       "  </tbody>\n",
       "</table>\n",
       "</div>"
      ],
      "text/plain": [
       "          A         C         D         E         F         G         H  \\\n",
       "0  0.040892  0.000000  0.074349  0.085502  0.014870  0.029740  0.018587   \n",
       "1  0.061611  0.006319  0.078989  0.082148  0.045814  0.058452  0.033175   \n",
       "2  0.110220  0.032064  0.038076  0.038076  0.052104  0.076152  0.012024   \n",
       "3  0.061856  0.072165  0.082474  0.041237  0.030928  0.092784  0.051546   \n",
       "4  0.059322  0.076271  0.059322  0.093220  0.016949  0.076271  0.008475   \n",
       "\n",
       "          I         K         L         M         N         P         Q  \\\n",
       "0  0.096654  0.126394  0.107807  0.011152  0.055762  0.022305  0.055762   \n",
       "1  0.067930  0.056872  0.091627  0.025276  0.067930  0.048973  0.030016   \n",
       "2  0.086172  0.042084  0.094188  0.030060  0.038076  0.036072  0.022044   \n",
       "3  0.061856  0.030928  0.061856  0.030928  0.041237  0.041237  0.041237   \n",
       "4  0.008475  0.101695  0.093220  0.033898  0.059322  0.033898  0.033898   \n",
       "\n",
       "          R         S         T         V         W         Y  \n",
       "0  0.033457  0.081784  0.059480  0.048327  0.011152  0.026022  \n",
       "1  0.036335  0.082148  0.045814  0.056872  0.006319  0.017378  \n",
       "2  0.020040  0.068136  0.070140  0.088176  0.016032  0.030060  \n",
       "3  0.010309  0.113402  0.072165  0.041237  0.020619  0.000000  \n",
       "4  0.033898  0.025424  0.059322  0.067797  0.016949  0.042373  "
      ]
     },
     "execution_count": 7,
     "metadata": {},
     "output_type": "execute_result"
    }
   ],
   "source": [
    "lst = []\n",
    "for s in seq_df[\"sequence\"]:\n",
    "    lst.append(ProteinAnalysis(s).get_amino_acids_percent())\n",
    "X = pd.DataFrame(lst)\n",
    "X.head()"
   ]
  },
  {
   "cell_type": "code",
   "execution_count": 8,
   "id": "4806b5c4",
   "metadata": {
    "execution": {
     "iopub.execute_input": "2023-05-10T02:47:55.884625Z",
     "iopub.status.busy": "2023-05-10T02:47:55.883458Z",
     "iopub.status.idle": "2023-05-10T02:47:55.969170Z",
     "shell.execute_reply": "2023-05-10T02:47:55.967883Z"
    },
    "papermill": {
     "duration": 0.124791,
     "end_time": "2023-05-10T02:47:55.972753",
     "exception": false,
     "start_time": "2023-05-10T02:47:55.847962",
     "status": "completed"
    },
    "tags": []
   },
   "outputs": [],
   "source": [
    "del lst"
   ]
  },
  {
   "cell_type": "code",
   "execution_count": 9,
   "id": "16950f8b",
   "metadata": {
    "execution": {
     "iopub.execute_input": "2023-05-10T02:47:56.051257Z",
     "iopub.status.busy": "2023-05-10T02:47:56.050822Z",
     "iopub.status.idle": "2023-05-10T02:47:59.884250Z",
     "shell.execute_reply": "2023-05-10T02:47:59.883316Z"
    },
    "papermill": {
     "duration": 3.874739,
     "end_time": "2023-05-10T02:47:59.886892",
     "exception": false,
     "start_time": "2023-05-10T02:47:56.012153",
     "status": "completed"
    },
    "tags": []
   },
   "outputs": [
    {
     "data": {
      "text/html": [
       "<div>\n",
       "<style scoped>\n",
       "    .dataframe tbody tr th:only-of-type {\n",
       "        vertical-align: middle;\n",
       "    }\n",
       "\n",
       "    .dataframe tbody tr th {\n",
       "        vertical-align: top;\n",
       "    }\n",
       "\n",
       "    .dataframe thead th {\n",
       "        text-align: right;\n",
       "    }\n",
       "</style>\n",
       "<table border=\"1\" class=\"dataframe\">\n",
       "  <thead>\n",
       "    <tr style=\"text-align: right;\">\n",
       "      <th></th>\n",
       "      <th>EntryID</th>\n",
       "      <th>term</th>\n",
       "      <th>aspect</th>\n",
       "    </tr>\n",
       "  </thead>\n",
       "  <tbody>\n",
       "    <tr>\n",
       "      <th>0</th>\n",
       "      <td>A0A009IHW8</td>\n",
       "      <td>GO:0008152</td>\n",
       "      <td>BPO</td>\n",
       "    </tr>\n",
       "    <tr>\n",
       "      <th>1</th>\n",
       "      <td>A0A009IHW8</td>\n",
       "      <td>GO:0034655</td>\n",
       "      <td>BPO</td>\n",
       "    </tr>\n",
       "    <tr>\n",
       "      <th>2</th>\n",
       "      <td>A0A009IHW8</td>\n",
       "      <td>GO:0072523</td>\n",
       "      <td>BPO</td>\n",
       "    </tr>\n",
       "    <tr>\n",
       "      <th>3</th>\n",
       "      <td>A0A009IHW8</td>\n",
       "      <td>GO:0044270</td>\n",
       "      <td>BPO</td>\n",
       "    </tr>\n",
       "    <tr>\n",
       "      <th>4</th>\n",
       "      <td>A0A009IHW8</td>\n",
       "      <td>GO:0006753</td>\n",
       "      <td>BPO</td>\n",
       "    </tr>\n",
       "  </tbody>\n",
       "</table>\n",
       "</div>"
      ],
      "text/plain": [
       "      EntryID        term aspect\n",
       "0  A0A009IHW8  GO:0008152    BPO\n",
       "1  A0A009IHW8  GO:0034655    BPO\n",
       "2  A0A009IHW8  GO:0072523    BPO\n",
       "3  A0A009IHW8  GO:0044270    BPO\n",
       "4  A0A009IHW8  GO:0006753    BPO"
      ]
     },
     "execution_count": 9,
     "metadata": {},
     "output_type": "execute_result"
    }
   ],
   "source": [
    "train_terms = pd.read_table(\"/kaggle/input/cafa-5-protein-function-prediction/Train/train_terms.tsv\")\n",
    "train_terms.head()"
   ]
  },
  {
   "cell_type": "code",
   "execution_count": 10,
   "id": "95ab9d62",
   "metadata": {
    "execution": {
     "iopub.execute_input": "2023-05-10T02:47:59.951961Z",
     "iopub.status.busy": "2023-05-10T02:47:59.951154Z",
     "iopub.status.idle": "2023-05-10T02:48:00.980768Z",
     "shell.execute_reply": "2023-05-10T02:48:00.979578Z"
    },
    "papermill": {
     "duration": 1.065535,
     "end_time": "2023-05-10T02:48:00.983945",
     "exception": false,
     "start_time": "2023-05-10T02:47:59.918410",
     "status": "completed"
    },
    "tags": []
   },
   "outputs": [
    {
     "name": "stdout",
     "output_type": "stream",
     "text": [
      "GO:0005575    92912\n",
      "GO:0008150    92210\n",
      "GO:0110165    91286\n",
      "GO:0003674    78637\n",
      "GO:0005622    70785\n",
      "              ...  \n",
      "GO:0031772        1\n",
      "GO:0042324        1\n",
      "GO:0031771        1\n",
      "GO:0051041        1\n",
      "GO:0102628        1\n",
      "Name: term, Length: 31466, dtype: int64\n"
     ]
    }
   ],
   "source": [
    "# get most occured label\n",
    "num_label = 1500\n",
    "\n",
    "freqCount = (train_terms['term'].value_counts())\n",
    "print(freqCount)\n",
    "considered_one = list(freqCount.index[:num_label])"
   ]
  },
  {
   "cell_type": "code",
   "execution_count": 11,
   "id": "362fc2f7",
   "metadata": {
    "execution": {
     "iopub.execute_input": "2023-05-10T02:48:01.051799Z",
     "iopub.status.busy": "2023-05-10T02:48:01.051400Z",
     "iopub.status.idle": "2023-05-10T03:08:28.791193Z",
     "shell.execute_reply": "2023-05-10T03:08:28.790128Z"
    },
    "papermill": {
     "duration": 1227.914764,
     "end_time": "2023-05-10T03:08:28.931177",
     "exception": false,
     "start_time": "2023-05-10T02:48:01.016413",
     "status": "completed"
    },
    "tags": []
   },
   "outputs": [
    {
     "name": "stderr",
     "output_type": "stream",
     "text": [
      "100%|██████████| 1500/1500 [20:26<00:00,  1.22it/s]\n"
     ]
    },
    {
     "data": {
      "text/plain": [
       "array([[0., 1., 0., ..., 0., 0., 0.],\n",
       "       [1., 1., 1., ..., 0., 0., 0.],\n",
       "       [1., 0., 1., ..., 0., 0., 0.],\n",
       "       ...,\n",
       "       [1., 0., 1., ..., 0., 0., 0.],\n",
       "       [1., 0., 1., ..., 0., 0., 0.],\n",
       "       [1., 0., 1., ..., 0., 0., 0.]])"
      ]
     },
     "execution_count": 11,
     "metadata": {},
     "output_type": "execute_result"
    }
   ],
   "source": [
    "# make multilabel data\n",
    "train_size = len(seq_df)\n",
    "Y = np.zeros((train_size ,num_label))\n",
    "train_protein = pd.Series(seq_df[\"id\"])\n",
    "train_terms_smaller = train_terms[train_terms[\"term\"].isin(considered_one)]\n",
    "for i in tqdm(range(Y.shape[1])):\n",
    "    m = train_terms_smaller['term'] ==  considered_one[i]\n",
    "    Y[:,i] =  train_protein.isin( set(train_terms_smaller[m]['EntryID'] ) ).astype(float )\n",
    "Y"
   ]
  },
  {
   "cell_type": "code",
   "execution_count": 12,
   "id": "3bb75d20",
   "metadata": {
    "execution": {
     "iopub.execute_input": "2023-05-10T03:08:29.259067Z",
     "iopub.status.busy": "2023-05-10T03:08:29.258428Z",
     "iopub.status.idle": "2023-05-10T03:08:29.265238Z",
     "shell.execute_reply": "2023-05-10T03:08:29.264105Z"
    },
    "papermill": {
     "duration": 0.174803,
     "end_time": "2023-05-10T03:08:29.267753",
     "exception": false,
     "start_time": "2023-05-10T03:08:29.092950",
     "status": "completed"
    },
    "tags": []
   },
   "outputs": [
    {
     "data": {
      "text/plain": [
       "(142246, 1500)"
      ]
     },
     "execution_count": 12,
     "metadata": {},
     "output_type": "execute_result"
    }
   ],
   "source": [
    "Y.shape"
   ]
  },
  {
   "cell_type": "code",
   "execution_count": 13,
   "id": "a2e6942f",
   "metadata": {
    "execution": {
     "iopub.execute_input": "2023-05-10T03:08:29.597978Z",
     "iopub.status.busy": "2023-05-10T03:08:29.597562Z",
     "iopub.status.idle": "2023-05-10T03:08:29.604400Z",
     "shell.execute_reply": "2023-05-10T03:08:29.603367Z"
    },
    "papermill": {
     "duration": 0.174203,
     "end_time": "2023-05-10T03:08:29.606740",
     "exception": false,
     "start_time": "2023-05-10T03:08:29.432537",
     "status": "completed"
    },
    "tags": []
   },
   "outputs": [
    {
     "data": {
      "text/plain": [
       "(142246, 20)"
      ]
     },
     "execution_count": 13,
     "metadata": {},
     "output_type": "execute_result"
    }
   ],
   "source": [
    "X = X.values\n",
    "X.shape"
   ]
  },
  {
   "cell_type": "code",
   "execution_count": 14,
   "id": "f81b4f40",
   "metadata": {
    "execution": {
     "iopub.execute_input": "2023-05-10T03:08:29.937704Z",
     "iopub.status.busy": "2023-05-10T03:08:29.936828Z",
     "iopub.status.idle": "2023-05-10T03:08:29.942166Z",
     "shell.execute_reply": "2023-05-10T03:08:29.941310Z"
    },
    "papermill": {
     "duration": 0.1732,
     "end_time": "2023-05-10T03:08:29.944590",
     "exception": false,
     "start_time": "2023-05-10T03:08:29.771390",
     "status": "completed"
    },
    "tags": []
   },
   "outputs": [],
   "source": [
    "del train_terms\n",
    "del freqCount"
   ]
  },
  {
   "cell_type": "code",
   "execution_count": 15,
   "id": "ad93f4df",
   "metadata": {
    "execution": {
     "iopub.execute_input": "2023-05-10T03:08:30.273967Z",
     "iopub.status.busy": "2023-05-10T03:08:30.273307Z",
     "iopub.status.idle": "2023-05-10T03:08:31.918521Z",
     "shell.execute_reply": "2023-05-10T03:08:31.917390Z"
    },
    "papermill": {
     "duration": 1.813275,
     "end_time": "2023-05-10T03:08:31.921366",
     "exception": false,
     "start_time": "2023-05-10T03:08:30.108091",
     "status": "completed"
    },
    "tags": []
   },
   "outputs": [],
   "source": [
    "from sklearn.model_selection import train_test_split\n",
    "\n",
    "X_train, X_test, Y_train, Y_test = train_test_split(X, Y, test_size = 0.3, random_state = 101)"
   ]
  },
  {
   "cell_type": "code",
   "execution_count": 16,
   "id": "6ffc8fb0",
   "metadata": {
    "execution": {
     "iopub.execute_input": "2023-05-10T03:08:32.250171Z",
     "iopub.status.busy": "2023-05-10T03:08:32.249790Z",
     "iopub.status.idle": "2023-05-10T03:08:32.254678Z",
     "shell.execute_reply": "2023-05-10T03:08:32.253575Z"
    },
    "papermill": {
     "duration": 0.171565,
     "end_time": "2023-05-10T03:08:32.256849",
     "exception": false,
     "start_time": "2023-05-10T03:08:32.085284",
     "status": "completed"
    },
    "tags": []
   },
   "outputs": [],
   "source": [
    "from sklearn.metrics import f1_score"
   ]
  },
  {
   "cell_type": "markdown",
   "id": "8111e4fa",
   "metadata": {
    "papermill": {
     "duration": 0.178648,
     "end_time": "2023-05-10T03:08:32.601117",
     "exception": false,
     "start_time": "2023-05-10T03:08:32.422469",
     "status": "completed"
    },
    "tags": []
   },
   "source": [
    "**Binary Relevance Naive Bayes**"
   ]
  },
  {
   "cell_type": "code",
   "execution_count": 17,
   "id": "f4073ccc",
   "metadata": {
    "execution": {
     "iopub.execute_input": "2023-05-10T03:08:32.937113Z",
     "iopub.status.busy": "2023-05-10T03:08:32.936714Z",
     "iopub.status.idle": "2023-05-10T03:08:32.966467Z",
     "shell.execute_reply": "2023-05-10T03:08:32.965109Z"
    },
    "papermill": {
     "duration": 0.198114,
     "end_time": "2023-05-10T03:08:32.969300",
     "exception": false,
     "start_time": "2023-05-10T03:08:32.771186",
     "status": "completed"
    },
    "tags": []
   },
   "outputs": [],
   "source": [
    "from skmultilearn.problem_transform import BinaryRelevance\n",
    "from sklearn.naive_bayes import GaussianNB"
   ]
  },
  {
   "cell_type": "code",
   "execution_count": 18,
   "id": "80403e78",
   "metadata": {
    "execution": {
     "iopub.execute_input": "2023-05-10T03:08:33.300761Z",
     "iopub.status.busy": "2023-05-10T03:08:33.300349Z",
     "iopub.status.idle": "2023-05-10T03:08:33.305936Z",
     "shell.execute_reply": "2023-05-10T03:08:33.304799Z"
    },
    "papermill": {
     "duration": 0.173599,
     "end_time": "2023-05-10T03:08:33.308007",
     "exception": false,
     "start_time": "2023-05-10T03:08:33.134408",
     "status": "completed"
    },
    "tags": []
   },
   "outputs": [],
   "source": [
    "br_gnb = BinaryRelevance(GaussianNB())"
   ]
  },
  {
   "cell_type": "code",
   "execution_count": 19,
   "id": "8b4036ef",
   "metadata": {
    "execution": {
     "iopub.execute_input": "2023-05-10T03:08:33.706890Z",
     "iopub.status.busy": "2023-05-10T03:08:33.705831Z",
     "iopub.status.idle": "2023-05-10T03:09:48.730861Z",
     "shell.execute_reply": "2023-05-10T03:09:48.729600Z"
    },
    "papermill": {
     "duration": 75.357243,
     "end_time": "2023-05-10T03:09:48.896576",
     "exception": false,
     "start_time": "2023-05-10T03:08:33.539333",
     "status": "completed"
    },
    "tags": []
   },
   "outputs": [
    {
     "data": {
      "text/html": [
       "<style>#sk-container-id-1 {color: black;background-color: white;}#sk-container-id-1 pre{padding: 0;}#sk-container-id-1 div.sk-toggleable {background-color: white;}#sk-container-id-1 label.sk-toggleable__label {cursor: pointer;display: block;width: 100%;margin-bottom: 0;padding: 0.3em;box-sizing: border-box;text-align: center;}#sk-container-id-1 label.sk-toggleable__label-arrow:before {content: \"▸\";float: left;margin-right: 0.25em;color: #696969;}#sk-container-id-1 label.sk-toggleable__label-arrow:hover:before {color: black;}#sk-container-id-1 div.sk-estimator:hover label.sk-toggleable__label-arrow:before {color: black;}#sk-container-id-1 div.sk-toggleable__content {max-height: 0;max-width: 0;overflow: hidden;text-align: left;background-color: #f0f8ff;}#sk-container-id-1 div.sk-toggleable__content pre {margin: 0.2em;color: black;border-radius: 0.25em;background-color: #f0f8ff;}#sk-container-id-1 input.sk-toggleable__control:checked~div.sk-toggleable__content {max-height: 200px;max-width: 100%;overflow: auto;}#sk-container-id-1 input.sk-toggleable__control:checked~label.sk-toggleable__label-arrow:before {content: \"▾\";}#sk-container-id-1 div.sk-estimator input.sk-toggleable__control:checked~label.sk-toggleable__label {background-color: #d4ebff;}#sk-container-id-1 div.sk-label input.sk-toggleable__control:checked~label.sk-toggleable__label {background-color: #d4ebff;}#sk-container-id-1 input.sk-hidden--visually {border: 0;clip: rect(1px 1px 1px 1px);clip: rect(1px, 1px, 1px, 1px);height: 1px;margin: -1px;overflow: hidden;padding: 0;position: absolute;width: 1px;}#sk-container-id-1 div.sk-estimator {font-family: monospace;background-color: #f0f8ff;border: 1px dotted black;border-radius: 0.25em;box-sizing: border-box;margin-bottom: 0.5em;}#sk-container-id-1 div.sk-estimator:hover {background-color: #d4ebff;}#sk-container-id-1 div.sk-parallel-item::after {content: \"\";width: 100%;border-bottom: 1px solid gray;flex-grow: 1;}#sk-container-id-1 div.sk-label:hover label.sk-toggleable__label {background-color: #d4ebff;}#sk-container-id-1 div.sk-serial::before {content: \"\";position: absolute;border-left: 1px solid gray;box-sizing: border-box;top: 0;bottom: 0;left: 50%;z-index: 0;}#sk-container-id-1 div.sk-serial {display: flex;flex-direction: column;align-items: center;background-color: white;padding-right: 0.2em;padding-left: 0.2em;position: relative;}#sk-container-id-1 div.sk-item {position: relative;z-index: 1;}#sk-container-id-1 div.sk-parallel {display: flex;align-items: stretch;justify-content: center;background-color: white;position: relative;}#sk-container-id-1 div.sk-item::before, #sk-container-id-1 div.sk-parallel-item::before {content: \"\";position: absolute;border-left: 1px solid gray;box-sizing: border-box;top: 0;bottom: 0;left: 50%;z-index: -1;}#sk-container-id-1 div.sk-parallel-item {display: flex;flex-direction: column;z-index: 1;position: relative;background-color: white;}#sk-container-id-1 div.sk-parallel-item:first-child::after {align-self: flex-end;width: 50%;}#sk-container-id-1 div.sk-parallel-item:last-child::after {align-self: flex-start;width: 50%;}#sk-container-id-1 div.sk-parallel-item:only-child::after {width: 0;}#sk-container-id-1 div.sk-dashed-wrapped {border: 1px dashed gray;margin: 0 0.4em 0.5em 0.4em;box-sizing: border-box;padding-bottom: 0.4em;background-color: white;}#sk-container-id-1 div.sk-label label {font-family: monospace;font-weight: bold;display: inline-block;line-height: 1.2em;}#sk-container-id-1 div.sk-label-container {text-align: center;}#sk-container-id-1 div.sk-container {/* jupyter's `normalize.less` sets `[hidden] { display: none; }` but bootstrap.min.css set `[hidden] { display: none !important; }` so we also need the `!important` here to be able to override the default hidden behavior on the sphinx rendered scikit-learn.org. See: https://github.com/scikit-learn/scikit-learn/issues/21755 */display: inline-block !important;position: relative;}#sk-container-id-1 div.sk-text-repr-fallback {display: none;}</style><div id=\"sk-container-id-1\" class=\"sk-top-container\"><div class=\"sk-text-repr-fallback\"><pre>BinaryRelevance(classifier=GaussianNB(), require_dense=[True, True])</pre><b>In a Jupyter environment, please rerun this cell to show the HTML representation or trust the notebook. <br />On GitHub, the HTML representation is unable to render, please try loading this page with nbviewer.org.</b></div><div class=\"sk-container\" hidden><div class=\"sk-item sk-dashed-wrapped\"><div class=\"sk-label-container\"><div class=\"sk-label sk-toggleable\"><input class=\"sk-toggleable__control sk-hidden--visually\" id=\"sk-estimator-id-1\" type=\"checkbox\" ><label for=\"sk-estimator-id-1\" class=\"sk-toggleable__label sk-toggleable__label-arrow\">BinaryRelevance</label><div class=\"sk-toggleable__content\"><pre>BinaryRelevance(classifier=GaussianNB(), require_dense=[True, True])</pre></div></div></div><div class=\"sk-parallel\"><div class=\"sk-parallel-item\"><div class=\"sk-item\"><div class=\"sk-label-container\"><div class=\"sk-label sk-toggleable\"><input class=\"sk-toggleable__control sk-hidden--visually\" id=\"sk-estimator-id-2\" type=\"checkbox\" ><label for=\"sk-estimator-id-2\" class=\"sk-toggleable__label sk-toggleable__label-arrow\">classifier: GaussianNB</label><div class=\"sk-toggleable__content\"><pre>GaussianNB()</pre></div></div></div><div class=\"sk-serial\"><div class=\"sk-item\"><div class=\"sk-estimator sk-toggleable\"><input class=\"sk-toggleable__control sk-hidden--visually\" id=\"sk-estimator-id-3\" type=\"checkbox\" ><label for=\"sk-estimator-id-3\" class=\"sk-toggleable__label sk-toggleable__label-arrow\">GaussianNB</label><div class=\"sk-toggleable__content\"><pre>GaussianNB()</pre></div></div></div></div></div></div></div></div></div></div>"
      ],
      "text/plain": [
       "BinaryRelevance(classifier=GaussianNB(), require_dense=[True, True])"
      ]
     },
     "execution_count": 19,
     "metadata": {},
     "output_type": "execute_result"
    }
   ],
   "source": [
    "br_gnb.fit(X_train, Y_train)"
   ]
  },
  {
   "cell_type": "code",
   "execution_count": 20,
   "id": "e8ce3ed7",
   "metadata": {
    "execution": {
     "iopub.execute_input": "2023-05-10T03:09:49.225691Z",
     "iopub.status.busy": "2023-05-10T03:09:49.225309Z",
     "iopub.status.idle": "2023-05-10T03:10:10.893200Z",
     "shell.execute_reply": "2023-05-10T03:10:10.891979Z"
    },
    "papermill": {
     "duration": 21.83751,
     "end_time": "2023-05-10T03:10:10.895839",
     "exception": false,
     "start_time": "2023-05-10T03:09:49.058329",
     "status": "completed"
    },
    "tags": []
   },
   "outputs": [],
   "source": [
    "pred_br_gnb = br_gnb.predict(X_test)"
   ]
  },
  {
   "cell_type": "code",
   "execution_count": 21,
   "id": "69d72f2f",
   "metadata": {
    "execution": {
     "iopub.execute_input": "2023-05-10T03:10:11.223707Z",
     "iopub.status.busy": "2023-05-10T03:10:11.223019Z",
     "iopub.status.idle": "2023-05-10T03:10:39.596746Z",
     "shell.execute_reply": "2023-05-10T03:10:39.595574Z"
    },
    "papermill": {
     "duration": 28.540676,
     "end_time": "2023-05-10T03:10:39.599056",
     "exception": false,
     "start_time": "2023-05-10T03:10:11.058380",
     "status": "completed"
    },
    "tags": []
   },
   "outputs": [
    {
     "name": "stdout",
     "output_type": "stream",
     "text": [
      "0.24561923391232063\n",
      "0.055964209628973284\n"
     ]
    }
   ],
   "source": [
    "print(f1_score(Y_test,pred_br_gnb.toarray(), average=\"micro\")) \n",
    "print(f1_score(Y_test,pred_br_gnb.toarray(), average=\"macro\"))"
   ]
  },
  {
   "cell_type": "markdown",
   "id": "eda5bf21",
   "metadata": {
    "papermill": {
     "duration": 0.162515,
     "end_time": "2023-05-10T03:10:39.922884",
     "exception": false,
     "start_time": "2023-05-10T03:10:39.760369",
     "status": "completed"
    },
    "tags": []
   },
   "source": [
    "Label Powerset Naive Bayes"
   ]
  },
  {
   "cell_type": "code",
   "execution_count": 22,
   "id": "f4e7baf7",
   "metadata": {
    "execution": {
     "iopub.execute_input": "2023-05-10T03:10:40.249244Z",
     "iopub.status.busy": "2023-05-10T03:10:40.248173Z",
     "iopub.status.idle": "2023-05-10T03:10:40.253345Z",
     "shell.execute_reply": "2023-05-10T03:10:40.252355Z"
    },
    "papermill": {
     "duration": 0.171237,
     "end_time": "2023-05-10T03:10:40.255708",
     "exception": false,
     "start_time": "2023-05-10T03:10:40.084471",
     "status": "completed"
    },
    "tags": []
   },
   "outputs": [],
   "source": [
    "from skmultilearn.problem_transform import LabelPowerset"
   ]
  },
  {
   "cell_type": "code",
   "execution_count": 23,
   "id": "c0e405a8",
   "metadata": {
    "execution": {
     "iopub.execute_input": "2023-05-10T03:10:40.587567Z",
     "iopub.status.busy": "2023-05-10T03:10:40.587174Z",
     "iopub.status.idle": "2023-05-10T03:10:40.591844Z",
     "shell.execute_reply": "2023-05-10T03:10:40.590686Z"
    },
    "papermill": {
     "duration": 0.173554,
     "end_time": "2023-05-10T03:10:40.594164",
     "exception": false,
     "start_time": "2023-05-10T03:10:40.420610",
     "status": "completed"
    },
    "tags": []
   },
   "outputs": [],
   "source": [
    "lp_gnb = LabelPowerset(GaussianNB())"
   ]
  },
  {
   "cell_type": "code",
   "execution_count": 24,
   "id": "74ea0380",
   "metadata": {
    "execution": {
     "iopub.execute_input": "2023-05-10T03:10:40.923589Z",
     "iopub.status.busy": "2023-05-10T03:10:40.922777Z",
     "iopub.status.idle": "2023-05-10T03:11:00.776108Z",
     "shell.execute_reply": "2023-05-10T03:11:00.774970Z"
    },
    "papermill": {
     "duration": 20.021978,
     "end_time": "2023-05-10T03:11:00.778626",
     "exception": false,
     "start_time": "2023-05-10T03:10:40.756648",
     "status": "completed"
    },
    "tags": []
   },
   "outputs": [
    {
     "data": {
      "text/html": [
       "<style>#sk-container-id-2 {color: black;background-color: white;}#sk-container-id-2 pre{padding: 0;}#sk-container-id-2 div.sk-toggleable {background-color: white;}#sk-container-id-2 label.sk-toggleable__label {cursor: pointer;display: block;width: 100%;margin-bottom: 0;padding: 0.3em;box-sizing: border-box;text-align: center;}#sk-container-id-2 label.sk-toggleable__label-arrow:before {content: \"▸\";float: left;margin-right: 0.25em;color: #696969;}#sk-container-id-2 label.sk-toggleable__label-arrow:hover:before {color: black;}#sk-container-id-2 div.sk-estimator:hover label.sk-toggleable__label-arrow:before {color: black;}#sk-container-id-2 div.sk-toggleable__content {max-height: 0;max-width: 0;overflow: hidden;text-align: left;background-color: #f0f8ff;}#sk-container-id-2 div.sk-toggleable__content pre {margin: 0.2em;color: black;border-radius: 0.25em;background-color: #f0f8ff;}#sk-container-id-2 input.sk-toggleable__control:checked~div.sk-toggleable__content {max-height: 200px;max-width: 100%;overflow: auto;}#sk-container-id-2 input.sk-toggleable__control:checked~label.sk-toggleable__label-arrow:before {content: \"▾\";}#sk-container-id-2 div.sk-estimator input.sk-toggleable__control:checked~label.sk-toggleable__label {background-color: #d4ebff;}#sk-container-id-2 div.sk-label input.sk-toggleable__control:checked~label.sk-toggleable__label {background-color: #d4ebff;}#sk-container-id-2 input.sk-hidden--visually {border: 0;clip: rect(1px 1px 1px 1px);clip: rect(1px, 1px, 1px, 1px);height: 1px;margin: -1px;overflow: hidden;padding: 0;position: absolute;width: 1px;}#sk-container-id-2 div.sk-estimator {font-family: monospace;background-color: #f0f8ff;border: 1px dotted black;border-radius: 0.25em;box-sizing: border-box;margin-bottom: 0.5em;}#sk-container-id-2 div.sk-estimator:hover {background-color: #d4ebff;}#sk-container-id-2 div.sk-parallel-item::after {content: \"\";width: 100%;border-bottom: 1px solid gray;flex-grow: 1;}#sk-container-id-2 div.sk-label:hover label.sk-toggleable__label {background-color: #d4ebff;}#sk-container-id-2 div.sk-serial::before {content: \"\";position: absolute;border-left: 1px solid gray;box-sizing: border-box;top: 0;bottom: 0;left: 50%;z-index: 0;}#sk-container-id-2 div.sk-serial {display: flex;flex-direction: column;align-items: center;background-color: white;padding-right: 0.2em;padding-left: 0.2em;position: relative;}#sk-container-id-2 div.sk-item {position: relative;z-index: 1;}#sk-container-id-2 div.sk-parallel {display: flex;align-items: stretch;justify-content: center;background-color: white;position: relative;}#sk-container-id-2 div.sk-item::before, #sk-container-id-2 div.sk-parallel-item::before {content: \"\";position: absolute;border-left: 1px solid gray;box-sizing: border-box;top: 0;bottom: 0;left: 50%;z-index: -1;}#sk-container-id-2 div.sk-parallel-item {display: flex;flex-direction: column;z-index: 1;position: relative;background-color: white;}#sk-container-id-2 div.sk-parallel-item:first-child::after {align-self: flex-end;width: 50%;}#sk-container-id-2 div.sk-parallel-item:last-child::after {align-self: flex-start;width: 50%;}#sk-container-id-2 div.sk-parallel-item:only-child::after {width: 0;}#sk-container-id-2 div.sk-dashed-wrapped {border: 1px dashed gray;margin: 0 0.4em 0.5em 0.4em;box-sizing: border-box;padding-bottom: 0.4em;background-color: white;}#sk-container-id-2 div.sk-label label {font-family: monospace;font-weight: bold;display: inline-block;line-height: 1.2em;}#sk-container-id-2 div.sk-label-container {text-align: center;}#sk-container-id-2 div.sk-container {/* jupyter's `normalize.less` sets `[hidden] { display: none; }` but bootstrap.min.css set `[hidden] { display: none !important; }` so we also need the `!important` here to be able to override the default hidden behavior on the sphinx rendered scikit-learn.org. See: https://github.com/scikit-learn/scikit-learn/issues/21755 */display: inline-block !important;position: relative;}#sk-container-id-2 div.sk-text-repr-fallback {display: none;}</style><div id=\"sk-container-id-2\" class=\"sk-top-container\"><div class=\"sk-text-repr-fallback\"><pre>LabelPowerset(classifier=GaussianNB(), require_dense=[True, True])</pre><b>In a Jupyter environment, please rerun this cell to show the HTML representation or trust the notebook. <br />On GitHub, the HTML representation is unable to render, please try loading this page with nbviewer.org.</b></div><div class=\"sk-container\" hidden><div class=\"sk-item sk-dashed-wrapped\"><div class=\"sk-label-container\"><div class=\"sk-label sk-toggleable\"><input class=\"sk-toggleable__control sk-hidden--visually\" id=\"sk-estimator-id-4\" type=\"checkbox\" ><label for=\"sk-estimator-id-4\" class=\"sk-toggleable__label sk-toggleable__label-arrow\">LabelPowerset</label><div class=\"sk-toggleable__content\"><pre>LabelPowerset(classifier=GaussianNB(), require_dense=[True, True])</pre></div></div></div><div class=\"sk-parallel\"><div class=\"sk-parallel-item\"><div class=\"sk-item\"><div class=\"sk-label-container\"><div class=\"sk-label sk-toggleable\"><input class=\"sk-toggleable__control sk-hidden--visually\" id=\"sk-estimator-id-5\" type=\"checkbox\" ><label for=\"sk-estimator-id-5\" class=\"sk-toggleable__label sk-toggleable__label-arrow\">classifier: GaussianNB</label><div class=\"sk-toggleable__content\"><pre>GaussianNB()</pre></div></div></div><div class=\"sk-serial\"><div class=\"sk-item\"><div class=\"sk-estimator sk-toggleable\"><input class=\"sk-toggleable__control sk-hidden--visually\" id=\"sk-estimator-id-6\" type=\"checkbox\" ><label for=\"sk-estimator-id-6\" class=\"sk-toggleable__label sk-toggleable__label-arrow\">GaussianNB</label><div class=\"sk-toggleable__content\"><pre>GaussianNB()</pre></div></div></div></div></div></div></div></div></div></div>"
      ],
      "text/plain": [
       "LabelPowerset(classifier=GaussianNB(), require_dense=[True, True])"
      ]
     },
     "execution_count": 24,
     "metadata": {},
     "output_type": "execute_result"
    }
   ],
   "source": [
    "lp_gnb.fit(X_train, Y_train)"
   ]
  },
  {
   "cell_type": "code",
   "execution_count": 25,
   "id": "74f5ed47",
   "metadata": {
    "execution": {
     "iopub.execute_input": "2023-05-10T03:11:01.106968Z",
     "iopub.status.busy": "2023-05-10T03:11:01.106191Z",
     "iopub.status.idle": "2023-05-10T03:11:01.111146Z",
     "shell.execute_reply": "2023-05-10T03:11:01.110297Z"
    },
    "papermill": {
     "duration": 0.172041,
     "end_time": "2023-05-10T03:11:01.113336",
     "exception": false,
     "start_time": "2023-05-10T03:11:00.941295",
     "status": "completed"
    },
    "tags": []
   },
   "outputs": [],
   "source": [
    "#pred_lp_gnb = lp_gnb.predict(X_test)"
   ]
  },
  {
   "cell_type": "code",
   "execution_count": 26,
   "id": "312bc086",
   "metadata": {
    "execution": {
     "iopub.execute_input": "2023-05-10T03:11:01.441700Z",
     "iopub.status.busy": "2023-05-10T03:11:01.441298Z",
     "iopub.status.idle": "2023-05-10T03:11:01.446015Z",
     "shell.execute_reply": "2023-05-10T03:11:01.444931Z"
    },
    "papermill": {
     "duration": 0.17115,
     "end_time": "2023-05-10T03:11:01.448412",
     "exception": false,
     "start_time": "2023-05-10T03:11:01.277262",
     "status": "completed"
    },
    "tags": []
   },
   "outputs": [],
   "source": [
    "#print(f1_score(Y_test,pred_lp_gnb.toarray(), average=\"micro\")) \n",
    "#print(f1_score(Y_test,pred_lp_gnb.toarray(), average=\"macro\"))"
   ]
  },
  {
   "cell_type": "code",
   "execution_count": 27,
   "id": "6435f8b7",
   "metadata": {
    "execution": {
     "iopub.execute_input": "2023-05-10T03:11:01.779557Z",
     "iopub.status.busy": "2023-05-10T03:11:01.779149Z",
     "iopub.status.idle": "2023-05-10T03:11:01.787173Z",
     "shell.execute_reply": "2023-05-10T03:11:01.786282Z"
    },
    "papermill": {
     "duration": 0.176556,
     "end_time": "2023-05-10T03:11:01.789427",
     "exception": false,
     "start_time": "2023-05-10T03:11:01.612871",
     "status": "completed"
    },
    "tags": []
   },
   "outputs": [],
   "source": [
    "del X\n",
    "del Y\n",
    "del X_train\n",
    "del Y_train\n",
    "del seq_df"
   ]
  },
  {
   "cell_type": "markdown",
   "id": "3c72c719",
   "metadata": {
    "papermill": {
     "duration": 0.162916,
     "end_time": "2023-05-10T03:11:02.114365",
     "exception": false,
     "start_time": "2023-05-10T03:11:01.951449",
     "status": "completed"
    },
    "tags": []
   },
   "source": [
    "Try on test data\n"
   ]
  },
  {
   "cell_type": "code",
   "execution_count": 28,
   "id": "c4f76034",
   "metadata": {
    "execution": {
     "iopub.execute_input": "2023-05-10T03:11:02.444404Z",
     "iopub.status.busy": "2023-05-10T03:11:02.443535Z",
     "iopub.status.idle": "2023-05-10T03:11:04.968315Z",
     "shell.execute_reply": "2023-05-10T03:11:04.966945Z"
    },
    "papermill": {
     "duration": 2.692871,
     "end_time": "2023-05-10T03:11:04.970655",
     "exception": false,
     "start_time": "2023-05-10T03:11:02.277784",
     "status": "completed"
    },
    "tags": []
   },
   "outputs": [
    {
     "name": "stdout",
     "output_type": "stream",
     "text": [
      "141865\n"
     ]
    }
   ],
   "source": [
    "test_id = []\n",
    "test_seq = []\n",
    "\n",
    "for seq_record in SeqIO.parse(\"/kaggle/input/cafa-5-protein-function-prediction/Test (Targets)/testsuperset.fasta\", \"fasta\"):\n",
    "    test_id.append(seq_record.id)\n",
    "    test_seq.append(str(seq_record.seq))\n",
    "\n",
    "print(len(test_id))"
   ]
  },
  {
   "cell_type": "code",
   "execution_count": 29,
   "id": "2e743f7c",
   "metadata": {
    "execution": {
     "iopub.execute_input": "2023-05-10T03:11:05.367236Z",
     "iopub.status.busy": "2023-05-10T03:11:05.366839Z",
     "iopub.status.idle": "2023-05-10T03:11:05.421938Z",
     "shell.execute_reply": "2023-05-10T03:11:05.420757Z"
    },
    "papermill": {
     "duration": 0.221843,
     "end_time": "2023-05-10T03:11:05.424440",
     "exception": false,
     "start_time": "2023-05-10T03:11:05.202597",
     "status": "completed"
    },
    "tags": []
   },
   "outputs": [
    {
     "data": {
      "text/html": [
       "<div>\n",
       "<style scoped>\n",
       "    .dataframe tbody tr th:only-of-type {\n",
       "        vertical-align: middle;\n",
       "    }\n",
       "\n",
       "    .dataframe tbody tr th {\n",
       "        vertical-align: top;\n",
       "    }\n",
       "\n",
       "    .dataframe thead th {\n",
       "        text-align: right;\n",
       "    }\n",
       "</style>\n",
       "<table border=\"1\" class=\"dataframe\">\n",
       "  <thead>\n",
       "    <tr style=\"text-align: right;\">\n",
       "      <th></th>\n",
       "      <th>id</th>\n",
       "      <th>sequence</th>\n",
       "    </tr>\n",
       "  </thead>\n",
       "  <tbody>\n",
       "    <tr>\n",
       "      <th>0</th>\n",
       "      <td>Q9CQV8</td>\n",
       "      <td>MTMDKSELVQKAKLAEQAERYDDMAAAMKAVTEQGHELSNEERNLL...</td>\n",
       "    </tr>\n",
       "    <tr>\n",
       "      <th>1</th>\n",
       "      <td>P62259</td>\n",
       "      <td>MDDREDLVYQAKLAEQAERYDEMVESMKKVAGMDVELTVEERNLLS...</td>\n",
       "    </tr>\n",
       "    <tr>\n",
       "      <th>2</th>\n",
       "      <td>P68510</td>\n",
       "      <td>MGDREQLLQRARLAEQAERYDDMASAMKAVTELNEPLSNEDRNLLS...</td>\n",
       "    </tr>\n",
       "    <tr>\n",
       "      <th>3</th>\n",
       "      <td>P61982</td>\n",
       "      <td>MVDREQLVQKARLAEQAERYDDMAAAMKNVTELNEPLSNEERNLLS...</td>\n",
       "    </tr>\n",
       "    <tr>\n",
       "      <th>4</th>\n",
       "      <td>O70456</td>\n",
       "      <td>MERASLIQKAKLAEQAERYEDMAAFMKSAVEKGEELSCEERNLLSV...</td>\n",
       "    </tr>\n",
       "  </tbody>\n",
       "</table>\n",
       "</div>"
      ],
      "text/plain": [
       "       id                                           sequence\n",
       "0  Q9CQV8  MTMDKSELVQKAKLAEQAERYDDMAAAMKAVTEQGHELSNEERNLL...\n",
       "1  P62259  MDDREDLVYQAKLAEQAERYDEMVESMKKVAGMDVELTVEERNLLS...\n",
       "2  P68510  MGDREQLLQRARLAEQAERYDDMASAMKAVTELNEPLSNEDRNLLS...\n",
       "3  P61982  MVDREQLVQKARLAEQAERYDDMAAAMKNVTELNEPLSNEERNLLS...\n",
       "4  O70456  MERASLIQKAKLAEQAERYEDMAAFMKSAVEKGEELSCEERNLLSV..."
      ]
     },
     "execution_count": 29,
     "metadata": {},
     "output_type": "execute_result"
    }
   ],
   "source": [
    "test_df = pd.DataFrame({\"id\": test_id, \"sequence\": test_seq})\n",
    "del test_id\n",
    "del test_seq\n",
    "test_df.head()"
   ]
  },
  {
   "cell_type": "code",
   "execution_count": 30,
   "id": "378b6705",
   "metadata": {
    "execution": {
     "iopub.execute_input": "2023-05-10T03:11:05.756766Z",
     "iopub.status.busy": "2023-05-10T03:11:05.756351Z",
     "iopub.status.idle": "2023-05-10T03:11:06.080993Z",
     "shell.execute_reply": "2023-05-10T03:11:06.080050Z"
    },
    "papermill": {
     "duration": 0.490673,
     "end_time": "2023-05-10T03:11:06.083314",
     "exception": false,
     "start_time": "2023-05-10T03:11:05.592641",
     "status": "completed"
    },
    "tags": []
   },
   "outputs": [
    {
     "data": {
      "text/html": [
       "<div>\n",
       "<style scoped>\n",
       "    .dataframe tbody tr th:only-of-type {\n",
       "        vertical-align: middle;\n",
       "    }\n",
       "\n",
       "    .dataframe tbody tr th {\n",
       "        vertical-align: top;\n",
       "    }\n",
       "\n",
       "    .dataframe thead th {\n",
       "        text-align: right;\n",
       "    }\n",
       "</style>\n",
       "<table border=\"1\" class=\"dataframe\">\n",
       "  <thead>\n",
       "    <tr style=\"text-align: right;\">\n",
       "      <th></th>\n",
       "      <th>id</th>\n",
       "      <th>sequence</th>\n",
       "    </tr>\n",
       "  </thead>\n",
       "  <tbody>\n",
       "    <tr>\n",
       "      <th>0</th>\n",
       "      <td>A0A023PXA5</td>\n",
       "      <td>MLLSELVATASSLPYTAISIHNNCRVPAARHIHHGCRYFHGPPVMH...</td>\n",
       "    </tr>\n",
       "    <tr>\n",
       "      <th>1</th>\n",
       "      <td>A0A023PXB0</td>\n",
       "      <td>MFINGFVNYPVRTPPNDLLQVVLHGFLRCPLDGSQVDSIGIGHTVH...</td>\n",
       "    </tr>\n",
       "    <tr>\n",
       "      <th>2</th>\n",
       "      <td>A0A023PXB5</td>\n",
       "      <td>MFALIISSKGKTSGFFFNSSFSSSALVGIAPLTAYSALVTPVFKSF...</td>\n",
       "    </tr>\n",
       "    <tr>\n",
       "      <th>3</th>\n",
       "      <td>A0A023PXB9</td>\n",
       "      <td>MEYVLIYNIWFFSFLQDKPCFCFVDYACSIFLLSSYCGNCLTAVAT...</td>\n",
       "    </tr>\n",
       "    <tr>\n",
       "      <th>4</th>\n",
       "      <td>A0A023PXC2</td>\n",
       "      <td>MLPLCLTFLSFFLSLGGSFKAVMTKEEADGTTEAAACLFWIFNWTV...</td>\n",
       "    </tr>\n",
       "  </tbody>\n",
       "</table>\n",
       "</div>"
      ],
      "text/plain": [
       "           id                                           sequence\n",
       "0  A0A023PXA5  MLLSELVATASSLPYTAISIHNNCRVPAARHIHHGCRYFHGPPVMH...\n",
       "1  A0A023PXB0  MFINGFVNYPVRTPPNDLLQVVLHGFLRCPLDGSQVDSIGIGHTVH...\n",
       "2  A0A023PXB5  MFALIISSKGKTSGFFFNSSFSSSALVGIAPLTAYSALVTPVFKSF...\n",
       "3  A0A023PXB9  MEYVLIYNIWFFSFLQDKPCFCFVDYACSIFLLSSYCGNCLTAVAT...\n",
       "4  A0A023PXC2  MLPLCLTFLSFFLSLGGSFKAVMTKEEADGTTEAAACLFWIFNWTV..."
      ]
     },
     "execution_count": 30,
     "metadata": {},
     "output_type": "execute_result"
    }
   ],
   "source": [
    "test_df = test_df.sort_values(\"id\").reset_index().drop(\"index\", axis = 1)\n",
    "test_df.head()"
   ]
  },
  {
   "cell_type": "code",
   "execution_count": 31,
   "id": "cd9692df",
   "metadata": {
    "execution": {
     "iopub.execute_input": "2023-05-10T03:11:06.412201Z",
     "iopub.status.busy": "2023-05-10T03:11:06.411351Z",
     "iopub.status.idle": "2023-05-10T03:11:06.420131Z",
     "shell.execute_reply": "2023-05-10T03:11:06.419362Z"
    },
    "papermill": {
     "duration": 0.176002,
     "end_time": "2023-05-10T03:11:06.422473",
     "exception": false,
     "start_time": "2023-05-10T03:11:06.246471",
     "status": "completed"
    },
    "tags": []
   },
   "outputs": [],
   "source": [
    "id_lst = test_df[\"id\"].tolist()"
   ]
  },
  {
   "cell_type": "markdown",
   "id": "d3f844af",
   "metadata": {
    "papermill": {
     "duration": 0.171591,
     "end_time": "2023-05-10T03:11:06.773631",
     "exception": false,
     "start_time": "2023-05-10T03:11:06.602040",
     "status": "completed"
    },
    "tags": []
   },
   "source": [
    "Make test data and remove all those unneeded or write the needed into disk in order to prevent ram overloading"
   ]
  },
  {
   "cell_type": "code",
   "execution_count": 32,
   "id": "caec608f",
   "metadata": {
    "execution": {
     "iopub.execute_input": "2023-05-10T03:11:07.100953Z",
     "iopub.status.busy": "2023-05-10T03:11:07.100310Z",
     "iopub.status.idle": "2023-05-10T03:11:12.802759Z",
     "shell.execute_reply": "2023-05-10T03:11:12.801819Z"
    },
    "papermill": {
     "duration": 5.869131,
     "end_time": "2023-05-10T03:11:12.805259",
     "exception": false,
     "start_time": "2023-05-10T03:11:06.936128",
     "status": "completed"
    },
    "tags": []
   },
   "outputs": [],
   "source": [
    "test_lst = []\n",
    "for s in test_df[\"sequence\"]:\n",
    "    test_lst.append(ProteinAnalysis(s).get_amino_acids_percent())\n",
    "test = pd.DataFrame(test_lst)\n",
    "test = test.values"
   ]
  },
  {
   "cell_type": "code",
   "execution_count": 33,
   "id": "91e6e1c5",
   "metadata": {
    "execution": {
     "iopub.execute_input": "2023-05-10T03:11:13.133569Z",
     "iopub.status.busy": "2023-05-10T03:11:13.133120Z",
     "iopub.status.idle": "2023-05-10T03:11:13.207542Z",
     "shell.execute_reply": "2023-05-10T03:11:13.206265Z"
    },
    "papermill": {
     "duration": 0.241004,
     "end_time": "2023-05-10T03:11:13.209967",
     "exception": false,
     "start_time": "2023-05-10T03:11:12.968963",
     "status": "completed"
    },
    "tags": []
   },
   "outputs": [],
   "source": [
    "del test_df\n",
    "del test_lst"
   ]
  },
  {
   "cell_type": "code",
   "execution_count": 34,
   "id": "7b9a226d",
   "metadata": {
    "execution": {
     "iopub.execute_input": "2023-05-10T03:11:13.542533Z",
     "iopub.status.busy": "2023-05-10T03:11:13.542107Z",
     "iopub.status.idle": "2023-05-10T03:11:13.548385Z",
     "shell.execute_reply": "2023-05-10T03:11:13.547481Z"
    },
    "papermill": {
     "duration": 0.176486,
     "end_time": "2023-05-10T03:11:13.550750",
     "exception": false,
     "start_time": "2023-05-10T03:11:13.374264",
     "status": "completed"
    },
    "tags": []
   },
   "outputs": [
    {
     "data": {
      "text/plain": [
       "(141865, 20)"
      ]
     },
     "execution_count": 34,
     "metadata": {},
     "output_type": "execute_result"
    }
   ],
   "source": [
    "test.shape"
   ]
  },
  {
   "cell_type": "code",
   "execution_count": 35,
   "id": "d2c98369",
   "metadata": {
    "execution": {
     "iopub.execute_input": "2023-05-10T03:11:13.880694Z",
     "iopub.status.busy": "2023-05-10T03:11:13.880289Z",
     "iopub.status.idle": "2023-05-10T03:11:13.886238Z",
     "shell.execute_reply": "2023-05-10T03:11:13.885175Z"
    },
    "papermill": {
     "duration": 0.17308,
     "end_time": "2023-05-10T03:11:13.888482",
     "exception": false,
     "start_time": "2023-05-10T03:11:13.715402",
     "status": "completed"
    },
    "tags": []
   },
   "outputs": [],
   "source": [
    "test_sub1 = test[:30000]\n",
    "test_sub2 = test[30000:60000]\n",
    "test_sub3 = test[60000:90000]\n",
    "test_sub4 = test[90000:120000]\n",
    "test_sub5 = test[120000:]\n",
    "del test"
   ]
  },
  {
   "cell_type": "code",
   "execution_count": 36,
   "id": "96e50d9e",
   "metadata": {
    "execution": {
     "iopub.execute_input": "2023-05-10T03:11:14.247919Z",
     "iopub.status.busy": "2023-05-10T03:11:14.247058Z",
     "iopub.status.idle": "2023-05-10T03:11:24.042964Z",
     "shell.execute_reply": "2023-05-10T03:11:24.041764Z"
    },
    "papermill": {
     "duration": 9.979576,
     "end_time": "2023-05-10T03:11:24.045839",
     "exception": false,
     "start_time": "2023-05-10T03:11:14.066263",
     "status": "completed"
    },
    "tags": []
   },
   "outputs": [],
   "source": [
    "prob_1 = br_gnb.predict(test_sub1)\n",
    "del test_sub1\n",
    "with open('prob_1.pickle', 'wb') as f:\n",
    "    pickle.dump(prob_1, f)\n",
    "del prob_1"
   ]
  },
  {
   "cell_type": "code",
   "execution_count": 37,
   "id": "14336231",
   "metadata": {
    "execution": {
     "iopub.execute_input": "2023-05-10T03:11:24.376822Z",
     "iopub.status.busy": "2023-05-10T03:11:24.376402Z",
     "iopub.status.idle": "2023-05-10T03:11:24.744789Z",
     "shell.execute_reply": "2023-05-10T03:11:24.743689Z"
    },
    "papermill": {
     "duration": 0.536836,
     "end_time": "2023-05-10T03:11:24.747209",
     "exception": false,
     "start_time": "2023-05-10T03:11:24.210373",
     "status": "completed"
    },
    "tags": []
   },
   "outputs": [
    {
     "data": {
      "text/plain": [
       "0"
      ]
     },
     "execution_count": 37,
     "metadata": {},
     "output_type": "execute_result"
    }
   ],
   "source": [
    "gc.collect()"
   ]
  },
  {
   "cell_type": "code",
   "execution_count": 38,
   "id": "871374f7",
   "metadata": {
    "execution": {
     "iopub.execute_input": "2023-05-10T03:11:25.075584Z",
     "iopub.status.busy": "2023-05-10T03:11:25.075169Z",
     "iopub.status.idle": "2023-05-10T03:11:34.511797Z",
     "shell.execute_reply": "2023-05-10T03:11:34.510483Z"
    },
    "papermill": {
     "duration": 9.604499,
     "end_time": "2023-05-10T03:11:34.514486",
     "exception": false,
     "start_time": "2023-05-10T03:11:24.909987",
     "status": "completed"
    },
    "tags": []
   },
   "outputs": [],
   "source": [
    "prob_2 = br_gnb.predict(test_sub2)\n",
    "del test_sub2\n",
    "with open('prob_2.pickle', 'wb') as f:\n",
    "    pickle.dump(prob_2, f)\n",
    "del prob_2"
   ]
  },
  {
   "cell_type": "code",
   "execution_count": 39,
   "id": "718cff06",
   "metadata": {
    "execution": {
     "iopub.execute_input": "2023-05-10T03:11:34.844702Z",
     "iopub.status.busy": "2023-05-10T03:11:34.844316Z",
     "iopub.status.idle": "2023-05-10T03:11:35.205478Z",
     "shell.execute_reply": "2023-05-10T03:11:35.204637Z"
    },
    "papermill": {
     "duration": 0.528688,
     "end_time": "2023-05-10T03:11:35.207575",
     "exception": false,
     "start_time": "2023-05-10T03:11:34.678887",
     "status": "completed"
    },
    "tags": []
   },
   "outputs": [
    {
     "data": {
      "text/plain": [
       "0"
      ]
     },
     "execution_count": 39,
     "metadata": {},
     "output_type": "execute_result"
    }
   ],
   "source": [
    "gc.collect()"
   ]
  },
  {
   "cell_type": "code",
   "execution_count": 40,
   "id": "0095b8c7",
   "metadata": {
    "execution": {
     "iopub.execute_input": "2023-05-10T03:11:35.607684Z",
     "iopub.status.busy": "2023-05-10T03:11:35.607289Z",
     "iopub.status.idle": "2023-05-10T03:12:26.356302Z",
     "shell.execute_reply": "2023-05-10T03:12:26.355283Z"
    },
    "papermill": {
     "duration": 50.987423,
     "end_time": "2023-05-10T03:12:26.358760",
     "exception": false,
     "start_time": "2023-05-10T03:11:35.371337",
     "status": "completed"
    },
    "tags": []
   },
   "outputs": [],
   "source": [
    "prob_3 = br_gnb.predict_proba(test_sub3)\n",
    "del test_sub3\n",
    "with open('prob_3.pickle', 'wb') as f:\n",
    "    pickle.dump(prob_3, f)\n",
    "del prob_3"
   ]
  },
  {
   "cell_type": "code",
   "execution_count": 41,
   "id": "57764f88",
   "metadata": {
    "execution": {
     "iopub.execute_input": "2023-05-10T03:12:26.692526Z",
     "iopub.status.busy": "2023-05-10T03:12:26.691705Z",
     "iopub.status.idle": "2023-05-10T03:12:27.066784Z",
     "shell.execute_reply": "2023-05-10T03:12:27.065622Z"
    },
    "papermill": {
     "duration": 0.543957,
     "end_time": "2023-05-10T03:12:27.069168",
     "exception": false,
     "start_time": "2023-05-10T03:12:26.525211",
     "status": "completed"
    },
    "tags": []
   },
   "outputs": [
    {
     "data": {
      "text/plain": [
       "0"
      ]
     },
     "execution_count": 41,
     "metadata": {},
     "output_type": "execute_result"
    }
   ],
   "source": [
    "gc.collect()"
   ]
  },
  {
   "cell_type": "code",
   "execution_count": 42,
   "id": "30df973f",
   "metadata": {
    "execution": {
     "iopub.execute_input": "2023-05-10T03:12:27.399983Z",
     "iopub.status.busy": "2023-05-10T03:12:27.399305Z",
     "iopub.status.idle": "2023-05-10T03:13:18.063720Z",
     "shell.execute_reply": "2023-05-10T03:13:18.062470Z"
    },
    "papermill": {
     "duration": 50.832771,
     "end_time": "2023-05-10T03:13:18.066396",
     "exception": false,
     "start_time": "2023-05-10T03:12:27.233625",
     "status": "completed"
    },
    "tags": []
   },
   "outputs": [],
   "source": [
    "prob_4 = br_gnb.predict_proba(test_sub4)\n",
    "del test_sub4\n",
    "with open('prob_4.pickle', 'wb') as f:\n",
    "    pickle.dump(prob_4, f)\n",
    "del prob_4"
   ]
  },
  {
   "cell_type": "code",
   "execution_count": 43,
   "id": "96c23682",
   "metadata": {
    "execution": {
     "iopub.execute_input": "2023-05-10T03:13:18.427905Z",
     "iopub.status.busy": "2023-05-10T03:13:18.426847Z",
     "iopub.status.idle": "2023-05-10T03:13:18.845080Z",
     "shell.execute_reply": "2023-05-10T03:13:18.843773Z"
    },
    "papermill": {
     "duration": 0.614793,
     "end_time": "2023-05-10T03:13:18.847654",
     "exception": false,
     "start_time": "2023-05-10T03:13:18.232861",
     "status": "completed"
    },
    "tags": []
   },
   "outputs": [
    {
     "data": {
      "text/plain": [
       "0"
      ]
     },
     "execution_count": 43,
     "metadata": {},
     "output_type": "execute_result"
    }
   ],
   "source": [
    "gc.collect()"
   ]
  },
  {
   "cell_type": "code",
   "execution_count": 44,
   "id": "82f977f6",
   "metadata": {
    "execution": {
     "iopub.execute_input": "2023-05-10T03:13:19.183490Z",
     "iopub.status.busy": "2023-05-10T03:13:19.182647Z",
     "iopub.status.idle": "2023-05-10T03:13:57.112524Z",
     "shell.execute_reply": "2023-05-10T03:13:57.111302Z"
    },
    "papermill": {
     "duration": 38.10081,
     "end_time": "2023-05-10T03:13:57.115380",
     "exception": false,
     "start_time": "2023-05-10T03:13:19.014570",
     "status": "completed"
    },
    "tags": []
   },
   "outputs": [],
   "source": [
    "prob_5 = br_gnb.predict_proba(test_sub5)\n",
    "del test_sub5\n",
    "with open('prob_5.pickle', 'wb') as f:\n",
    "    pickle.dump(prob_5, f)\n",
    "del prob_5"
   ]
  },
  {
   "cell_type": "code",
   "execution_count": 45,
   "id": "b9214e76",
   "metadata": {
    "execution": {
     "iopub.execute_input": "2023-05-10T03:13:57.448424Z",
     "iopub.status.busy": "2023-05-10T03:13:57.447657Z",
     "iopub.status.idle": "2023-05-10T03:13:57.823562Z",
     "shell.execute_reply": "2023-05-10T03:13:57.822582Z"
    },
    "papermill": {
     "duration": 0.545417,
     "end_time": "2023-05-10T03:13:57.826144",
     "exception": false,
     "start_time": "2023-05-10T03:13:57.280727",
     "status": "completed"
    },
    "tags": []
   },
   "outputs": [
    {
     "data": {
      "text/plain": [
       "0"
      ]
     },
     "execution_count": 45,
     "metadata": {},
     "output_type": "execute_result"
    }
   ],
   "source": [
    "gc.collect()"
   ]
  },
  {
   "cell_type": "markdown",
   "id": "b16757b1",
   "metadata": {
    "papermill": {
     "duration": 0.164566,
     "end_time": "2023-05-10T03:13:58.158954",
     "exception": false,
     "start_time": "2023-05-10T03:13:57.994388",
     "status": "completed"
    },
    "tags": []
   },
   "source": [
    "Now concat the data with the label"
   ]
  },
  {
   "cell_type": "code",
   "execution_count": 46,
   "id": "9f29c765",
   "metadata": {
    "execution": {
     "iopub.execute_input": "2023-05-10T03:13:58.492936Z",
     "iopub.status.busy": "2023-05-10T03:13:58.491845Z",
     "iopub.status.idle": "2023-05-10T03:13:58.500537Z",
     "shell.execute_reply": "2023-05-10T03:13:58.499564Z"
    },
    "papermill": {
     "duration": 0.178309,
     "end_time": "2023-05-10T03:13:58.503009",
     "exception": false,
     "start_time": "2023-05-10T03:13:58.324700",
     "status": "completed"
    },
    "tags": []
   },
   "outputs": [],
   "source": [
    "final_df = pd.DataFrame(columns = [\"id\", \"terms\", \"prob\"])"
   ]
  },
  {
   "cell_type": "code",
   "execution_count": 47,
   "id": "0c6b66d8",
   "metadata": {
    "execution": {
     "iopub.execute_input": "2023-05-10T03:13:58.834119Z",
     "iopub.status.busy": "2023-05-10T03:13:58.833450Z",
     "iopub.status.idle": "2023-05-10T03:14:17.202444Z",
     "shell.execute_reply": "2023-05-10T03:14:17.201158Z"
    },
    "papermill": {
     "duration": 18.538275,
     "end_time": "2023-05-10T03:14:17.205459",
     "exception": false,
     "start_time": "2023-05-10T03:13:58.667184",
     "status": "completed"
    },
    "tags": []
   },
   "outputs": [],
   "source": [
    "final_df[\"id\"] = [id_lst[i] for i in range(30000) for _ in range(1500)]"
   ]
  },
  {
   "cell_type": "code",
   "execution_count": 48,
   "id": "b387a028",
   "metadata": {
    "execution": {
     "iopub.execute_input": "2023-05-10T03:14:17.537752Z",
     "iopub.status.busy": "2023-05-10T03:14:17.537340Z",
     "iopub.status.idle": "2023-05-10T03:14:21.425234Z",
     "shell.execute_reply": "2023-05-10T03:14:21.423786Z"
    },
    "papermill": {
     "duration": 4.059492,
     "end_time": "2023-05-10T03:14:21.428063",
     "exception": false,
     "start_time": "2023-05-10T03:14:17.368571",
     "status": "completed"
    },
    "tags": []
   },
   "outputs": [],
   "source": [
    "final_df[\"terms\"] = considered_one * 30000"
   ]
  },
  {
   "cell_type": "code",
   "execution_count": 49,
   "id": "0dee6b04",
   "metadata": {
    "execution": {
     "iopub.execute_input": "2023-05-10T03:14:21.762255Z",
     "iopub.status.busy": "2023-05-10T03:14:21.761823Z",
     "iopub.status.idle": "2023-05-10T03:14:21.773403Z",
     "shell.execute_reply": "2023-05-10T03:14:21.772290Z"
    },
    "papermill": {
     "duration": 0.179776,
     "end_time": "2023-05-10T03:14:21.775904",
     "exception": false,
     "start_time": "2023-05-10T03:14:21.596128",
     "status": "completed"
    },
    "tags": []
   },
   "outputs": [
    {
     "data": {
      "text/plain": [
       "(30000, 1500)"
      ]
     },
     "execution_count": 49,
     "metadata": {},
     "output_type": "execute_result"
    }
   ],
   "source": [
    "with open('prob_1.pickle', 'rb') as f:\n",
    "    prob_1 = pickle.load(f)\n",
    "prob_1.shape"
   ]
  },
  {
   "cell_type": "code",
   "execution_count": 50,
   "id": "c8a56c87",
   "metadata": {
    "execution": {
     "iopub.execute_input": "2023-05-10T03:14:22.105605Z",
     "iopub.status.busy": "2023-05-10T03:14:22.105192Z",
     "iopub.status.idle": "2023-05-10T03:14:22.748511Z",
     "shell.execute_reply": "2023-05-10T03:14:22.747420Z"
    },
    "papermill": {
     "duration": 0.810657,
     "end_time": "2023-05-10T03:14:22.751171",
     "exception": false,
     "start_time": "2023-05-10T03:14:21.940514",
     "status": "completed"
    },
    "tags": []
   },
   "outputs": [],
   "source": [
    "prob_1 = prob_1.toarray().ravel()"
   ]
  },
  {
   "cell_type": "code",
   "execution_count": 51,
   "id": "311eb4a0",
   "metadata": {
    "execution": {
     "iopub.execute_input": "2023-05-10T03:14:23.082093Z",
     "iopub.status.busy": "2023-05-10T03:14:23.081710Z",
     "iopub.status.idle": "2023-05-10T03:14:23.437106Z",
     "shell.execute_reply": "2023-05-10T03:14:23.435702Z"
    },
    "papermill": {
     "duration": 0.523081,
     "end_time": "2023-05-10T03:14:23.439801",
     "exception": false,
     "start_time": "2023-05-10T03:14:22.916720",
     "status": "completed"
    },
    "tags": []
   },
   "outputs": [],
   "source": [
    "final_df[\"prob\"] = prob_1"
   ]
  },
  {
   "cell_type": "code",
   "execution_count": 52,
   "id": "608aa17d",
   "metadata": {
    "execution": {
     "iopub.execute_input": "2023-05-10T03:14:23.845059Z",
     "iopub.status.busy": "2023-05-10T03:14:23.844685Z",
     "iopub.status.idle": "2023-05-10T03:14:23.850448Z",
     "shell.execute_reply": "2023-05-10T03:14:23.849294Z"
    },
    "papermill": {
     "duration": 0.1748,
     "end_time": "2023-05-10T03:14:23.852596",
     "exception": false,
     "start_time": "2023-05-10T03:14:23.677796",
     "status": "completed"
    },
    "tags": []
   },
   "outputs": [],
   "source": [
    "del prob_1"
   ]
  },
  {
   "cell_type": "code",
   "execution_count": 53,
   "id": "973c4a66",
   "metadata": {
    "execution": {
     "iopub.execute_input": "2023-05-10T03:14:24.186407Z",
     "iopub.status.busy": "2023-05-10T03:14:24.185994Z",
     "iopub.status.idle": "2023-05-10T03:14:28.143770Z",
     "shell.execute_reply": "2023-05-10T03:14:28.142830Z"
    },
    "papermill": {
     "duration": 4.128832,
     "end_time": "2023-05-10T03:14:28.146318",
     "exception": false,
     "start_time": "2023-05-10T03:14:24.017486",
     "status": "completed"
    },
    "tags": []
   },
   "outputs": [],
   "source": [
    "final_df = final_df[final_df[\"prob\"] >= 0.6]"
   ]
  },
  {
   "cell_type": "code",
   "execution_count": 54,
   "id": "d5709146",
   "metadata": {
    "execution": {
     "iopub.execute_input": "2023-05-10T03:14:28.484145Z",
     "iopub.status.busy": "2023-05-10T03:14:28.483453Z",
     "iopub.status.idle": "2023-05-10T03:14:28.490470Z",
     "shell.execute_reply": "2023-05-10T03:14:28.489464Z"
    },
    "papermill": {
     "duration": 0.179755,
     "end_time": "2023-05-10T03:14:28.492866",
     "exception": false,
     "start_time": "2023-05-10T03:14:28.313111",
     "status": "completed"
    },
    "tags": []
   },
   "outputs": [
    {
     "data": {
      "text/plain": [
       "(1000181, 3)"
      ]
     },
     "execution_count": 54,
     "metadata": {},
     "output_type": "execute_result"
    }
   ],
   "source": [
    "final_df.shape"
   ]
  },
  {
   "cell_type": "code",
   "execution_count": 55,
   "id": "a5e5e328",
   "metadata": {
    "execution": {
     "iopub.execute_input": "2023-05-10T03:14:28.826382Z",
     "iopub.status.busy": "2023-05-10T03:14:28.825516Z",
     "iopub.status.idle": "2023-05-10T03:14:29.193528Z",
     "shell.execute_reply": "2023-05-10T03:14:29.192313Z"
    },
    "papermill": {
     "duration": 0.537624,
     "end_time": "2023-05-10T03:14:29.195876",
     "exception": false,
     "start_time": "2023-05-10T03:14:28.658252",
     "status": "completed"
    },
    "tags": []
   },
   "outputs": [
    {
     "data": {
      "text/plain": [
       "13"
      ]
     },
     "execution_count": 55,
     "metadata": {},
     "output_type": "execute_result"
    }
   ],
   "source": [
    "gc.collect()"
   ]
  },
  {
   "cell_type": "code",
   "execution_count": 56,
   "id": "36fc62fa",
   "metadata": {
    "execution": {
     "iopub.execute_input": "2023-05-10T03:14:29.529085Z",
     "iopub.status.busy": "2023-05-10T03:14:29.528705Z",
     "iopub.status.idle": "2023-05-10T03:14:29.536015Z",
     "shell.execute_reply": "2023-05-10T03:14:29.535175Z"
    },
    "papermill": {
     "duration": 0.177324,
     "end_time": "2023-05-10T03:14:29.538124",
     "exception": false,
     "start_time": "2023-05-10T03:14:29.360800",
     "status": "completed"
    },
    "tags": []
   },
   "outputs": [],
   "source": [
    "temp_df = pd.DataFrame(columns = [\"id\", \"terms\", \"prob\"])"
   ]
  },
  {
   "cell_type": "code",
   "execution_count": 57,
   "id": "453240af",
   "metadata": {
    "execution": {
     "iopub.execute_input": "2023-05-10T03:14:29.871408Z",
     "iopub.status.busy": "2023-05-10T03:14:29.870289Z",
     "iopub.status.idle": "2023-05-10T03:15:00.159558Z",
     "shell.execute_reply": "2023-05-10T03:15:00.156229Z"
    },
    "papermill": {
     "duration": 30.465846,
     "end_time": "2023-05-10T03:15:00.168129",
     "exception": false,
     "start_time": "2023-05-10T03:14:29.702283",
     "status": "completed"
    },
    "tags": []
   },
   "outputs": [],
   "source": [
    "temp_df[\"id\"] = [id_lst[i] for i in range(30000, 60000) for _ in range(1500)]"
   ]
  },
  {
   "cell_type": "code",
   "execution_count": 58,
   "id": "2145cb1f",
   "metadata": {
    "execution": {
     "iopub.execute_input": "2023-05-10T03:15:00.546301Z",
     "iopub.status.busy": "2023-05-10T03:15:00.545605Z",
     "iopub.status.idle": "2023-05-10T03:15:06.491759Z",
     "shell.execute_reply": "2023-05-10T03:15:06.490813Z"
    },
    "papermill": {
     "duration": 6.125471,
     "end_time": "2023-05-10T03:15:06.494478",
     "exception": false,
     "start_time": "2023-05-10T03:15:00.369007",
     "status": "completed"
    },
    "tags": []
   },
   "outputs": [],
   "source": [
    "temp_df[\"terms\"] = considered_one * 30000"
   ]
  },
  {
   "cell_type": "code",
   "execution_count": 59,
   "id": "f4b7b8d8",
   "metadata": {
    "execution": {
     "iopub.execute_input": "2023-05-10T03:15:06.831978Z",
     "iopub.status.busy": "2023-05-10T03:15:06.831193Z",
     "iopub.status.idle": "2023-05-10T03:15:06.946724Z",
     "shell.execute_reply": "2023-05-10T03:15:06.945445Z"
    },
    "papermill": {
     "duration": 0.287935,
     "end_time": "2023-05-10T03:15:06.949747",
     "exception": false,
     "start_time": "2023-05-10T03:15:06.661812",
     "status": "completed"
    },
    "tags": []
   },
   "outputs": [],
   "source": [
    "with open('prob_2.pickle', 'rb') as f:\n",
    "    prob_2 = pickle.load(f)"
   ]
  },
  {
   "cell_type": "code",
   "execution_count": 60,
   "id": "60de143f",
   "metadata": {
    "execution": {
     "iopub.execute_input": "2023-05-10T03:15:07.283945Z",
     "iopub.status.busy": "2023-05-10T03:15:07.283529Z",
     "iopub.status.idle": "2023-05-10T03:15:08.270579Z",
     "shell.execute_reply": "2023-05-10T03:15:08.269458Z"
    },
    "papermill": {
     "duration": 1.158786,
     "end_time": "2023-05-10T03:15:08.273721",
     "exception": false,
     "start_time": "2023-05-10T03:15:07.114935",
     "status": "completed"
    },
    "tags": []
   },
   "outputs": [],
   "source": [
    "prob_2 = prob_2.toarray().ravel()"
   ]
  },
  {
   "cell_type": "code",
   "execution_count": 61,
   "id": "6519e1f9",
   "metadata": {
    "execution": {
     "iopub.execute_input": "2023-05-10T03:15:08.622133Z",
     "iopub.status.busy": "2023-05-10T03:15:08.620975Z",
     "iopub.status.idle": "2023-05-10T03:15:09.208074Z",
     "shell.execute_reply": "2023-05-10T03:15:09.206657Z"
    },
    "papermill": {
     "duration": 0.771122,
     "end_time": "2023-05-10T03:15:09.210766",
     "exception": false,
     "start_time": "2023-05-10T03:15:08.439644",
     "status": "completed"
    },
    "tags": []
   },
   "outputs": [],
   "source": [
    "temp_df[\"prob\"] = prob_2"
   ]
  },
  {
   "cell_type": "code",
   "execution_count": 62,
   "id": "a9c46996",
   "metadata": {
    "execution": {
     "iopub.execute_input": "2023-05-10T03:15:09.549329Z",
     "iopub.status.busy": "2023-05-10T03:15:09.548841Z",
     "iopub.status.idle": "2023-05-10T03:15:09.555349Z",
     "shell.execute_reply": "2023-05-10T03:15:09.554294Z"
    },
    "papermill": {
     "duration": 0.180106,
     "end_time": "2023-05-10T03:15:09.557888",
     "exception": false,
     "start_time": "2023-05-10T03:15:09.377782",
     "status": "completed"
    },
    "tags": []
   },
   "outputs": [],
   "source": [
    "del prob_2"
   ]
  },
  {
   "cell_type": "code",
   "execution_count": 63,
   "id": "5d32bda9",
   "metadata": {
    "execution": {
     "iopub.execute_input": "2023-05-10T03:15:09.896123Z",
     "iopub.status.busy": "2023-05-10T03:15:09.895085Z",
     "iopub.status.idle": "2023-05-10T03:15:14.776005Z",
     "shell.execute_reply": "2023-05-10T03:15:14.774618Z"
    },
    "papermill": {
     "duration": 5.052791,
     "end_time": "2023-05-10T03:15:14.779255",
     "exception": false,
     "start_time": "2023-05-10T03:15:09.726464",
     "status": "completed"
    },
    "tags": []
   },
   "outputs": [],
   "source": [
    "temp_df = temp_df[temp_df[\"prob\"] >= 0.6]"
   ]
  },
  {
   "cell_type": "code",
   "execution_count": 64,
   "id": "90551cf6",
   "metadata": {
    "execution": {
     "iopub.execute_input": "2023-05-10T03:15:15.114887Z",
     "iopub.status.busy": "2023-05-10T03:15:15.114468Z",
     "iopub.status.idle": "2023-05-10T03:15:15.121985Z",
     "shell.execute_reply": "2023-05-10T03:15:15.120860Z"
    },
    "papermill": {
     "duration": 0.177615,
     "end_time": "2023-05-10T03:15:15.124338",
     "exception": false,
     "start_time": "2023-05-10T03:15:14.946723",
     "status": "completed"
    },
    "tags": []
   },
   "outputs": [
    {
     "data": {
      "text/plain": [
       "(956299, 3)"
      ]
     },
     "execution_count": 64,
     "metadata": {},
     "output_type": "execute_result"
    }
   ],
   "source": [
    "temp_df.shape"
   ]
  },
  {
   "cell_type": "code",
   "execution_count": 65,
   "id": "d629dd39",
   "metadata": {
    "execution": {
     "iopub.execute_input": "2023-05-10T03:15:15.571938Z",
     "iopub.status.busy": "2023-05-10T03:15:15.571064Z",
     "iopub.status.idle": "2023-05-10T03:15:15.756535Z",
     "shell.execute_reply": "2023-05-10T03:15:15.755176Z"
    },
    "papermill": {
     "duration": 0.358567,
     "end_time": "2023-05-10T03:15:15.759206",
     "exception": false,
     "start_time": "2023-05-10T03:15:15.400639",
     "status": "completed"
    },
    "tags": []
   },
   "outputs": [],
   "source": [
    "final_df = pd.concat([final_df, temp_df])\n",
    "del temp_df\n",
    "final_df = final_df.reset_index().drop(\"index\", axis = 1)"
   ]
  },
  {
   "cell_type": "code",
   "execution_count": 66,
   "id": "b40c04d9",
   "metadata": {
    "execution": {
     "iopub.execute_input": "2023-05-10T03:15:16.094613Z",
     "iopub.status.busy": "2023-05-10T03:15:16.094161Z",
     "iopub.status.idle": "2023-05-10T03:15:16.772125Z",
     "shell.execute_reply": "2023-05-10T03:15:16.771031Z"
    },
    "papermill": {
     "duration": 0.847414,
     "end_time": "2023-05-10T03:15:16.774411",
     "exception": false,
     "start_time": "2023-05-10T03:15:15.926997",
     "status": "completed"
    },
    "tags": []
   },
   "outputs": [
    {
     "data": {
      "text/plain": [
       "0"
      ]
     },
     "execution_count": 66,
     "metadata": {},
     "output_type": "execute_result"
    }
   ],
   "source": [
    "gc.collect()"
   ]
  },
  {
   "cell_type": "code",
   "execution_count": 67,
   "id": "644949b1",
   "metadata": {
    "execution": {
     "iopub.execute_input": "2023-05-10T03:15:17.109966Z",
     "iopub.status.busy": "2023-05-10T03:15:17.109514Z",
     "iopub.status.idle": "2023-05-10T03:15:17.117114Z",
     "shell.execute_reply": "2023-05-10T03:15:17.115993Z"
    },
    "papermill": {
     "duration": 0.177962,
     "end_time": "2023-05-10T03:15:17.119471",
     "exception": false,
     "start_time": "2023-05-10T03:15:16.941509",
     "status": "completed"
    },
    "tags": []
   },
   "outputs": [],
   "source": [
    "temp_df = pd.DataFrame(columns = [\"id\", \"terms\", \"prob\"])"
   ]
  },
  {
   "cell_type": "code",
   "execution_count": 68,
   "id": "f3099b49",
   "metadata": {
    "execution": {
     "iopub.execute_input": "2023-05-10T03:15:17.454388Z",
     "iopub.status.busy": "2023-05-10T03:15:17.453896Z",
     "iopub.status.idle": "2023-05-10T03:15:36.804430Z",
     "shell.execute_reply": "2023-05-10T03:15:36.803309Z"
    },
    "papermill": {
     "duration": 19.522167,
     "end_time": "2023-05-10T03:15:36.807334",
     "exception": false,
     "start_time": "2023-05-10T03:15:17.285167",
     "status": "completed"
    },
    "tags": []
   },
   "outputs": [],
   "source": [
    "temp_df[\"id\"] = [id_lst[i] for i in range(60000, 90000) for _ in range(1500)]"
   ]
  },
  {
   "cell_type": "code",
   "execution_count": 69,
   "id": "36ce79f5",
   "metadata": {
    "execution": {
     "iopub.execute_input": "2023-05-10T03:15:37.142510Z",
     "iopub.status.busy": "2023-05-10T03:15:37.142050Z",
     "iopub.status.idle": "2023-05-10T03:15:40.969933Z",
     "shell.execute_reply": "2023-05-10T03:15:40.968853Z"
    },
    "papermill": {
     "duration": 3.997796,
     "end_time": "2023-05-10T03:15:40.972537",
     "exception": false,
     "start_time": "2023-05-10T03:15:36.974741",
     "status": "completed"
    },
    "tags": []
   },
   "outputs": [],
   "source": [
    "temp_df[\"terms\"] = considered_one * 30000"
   ]
  },
  {
   "cell_type": "code",
   "execution_count": 70,
   "id": "444d23d4",
   "metadata": {
    "execution": {
     "iopub.execute_input": "2023-05-10T03:15:41.309484Z",
     "iopub.status.busy": "2023-05-10T03:15:41.308736Z",
     "iopub.status.idle": "2023-05-10T03:15:50.549881Z",
     "shell.execute_reply": "2023-05-10T03:15:50.548619Z"
    },
    "papermill": {
     "duration": 9.413849,
     "end_time": "2023-05-10T03:15:50.553303",
     "exception": false,
     "start_time": "2023-05-10T03:15:41.139454",
     "status": "completed"
    },
    "tags": []
   },
   "outputs": [],
   "source": [
    "with open('prob_3.pickle', 'rb') as f:\n",
    "    prob_3 = pickle.load(f)"
   ]
  },
  {
   "cell_type": "code",
   "execution_count": 71,
   "id": "f7ef40e4",
   "metadata": {
    "execution": {
     "iopub.execute_input": "2023-05-10T03:15:50.887124Z",
     "iopub.status.busy": "2023-05-10T03:15:50.886735Z",
     "iopub.status.idle": "2023-05-10T03:16:18.220532Z",
     "shell.execute_reply": "2023-05-10T03:16:18.219330Z"
    },
    "papermill": {
     "duration": 27.503214,
     "end_time": "2023-05-10T03:16:18.223655",
     "exception": false,
     "start_time": "2023-05-10T03:15:50.720441",
     "status": "completed"
    },
    "tags": []
   },
   "outputs": [],
   "source": [
    "prob_3 = prob_3.toarray().ravel()"
   ]
  },
  {
   "cell_type": "code",
   "execution_count": 72,
   "id": "8c68225a",
   "metadata": {
    "execution": {
     "iopub.execute_input": "2023-05-10T03:16:18.559304Z",
     "iopub.status.busy": "2023-05-10T03:16:18.558870Z",
     "iopub.status.idle": "2023-05-10T03:16:19.032122Z",
     "shell.execute_reply": "2023-05-10T03:16:19.030607Z"
    },
    "papermill": {
     "duration": 0.644475,
     "end_time": "2023-05-10T03:16:19.035114",
     "exception": false,
     "start_time": "2023-05-10T03:16:18.390639",
     "status": "completed"
    },
    "tags": []
   },
   "outputs": [],
   "source": [
    "temp_df[\"prob\"] = prob_3"
   ]
  },
  {
   "cell_type": "code",
   "execution_count": 73,
   "id": "970a1211",
   "metadata": {
    "execution": {
     "iopub.execute_input": "2023-05-10T03:16:19.368990Z",
     "iopub.status.busy": "2023-05-10T03:16:19.368594Z",
     "iopub.status.idle": "2023-05-10T03:16:19.397548Z",
     "shell.execute_reply": "2023-05-10T03:16:19.396336Z"
    },
    "papermill": {
     "duration": 0.198047,
     "end_time": "2023-05-10T03:16:19.399758",
     "exception": false,
     "start_time": "2023-05-10T03:16:19.201711",
     "status": "completed"
    },
    "tags": []
   },
   "outputs": [],
   "source": [
    "del prob_3"
   ]
  },
  {
   "cell_type": "code",
   "execution_count": 74,
   "id": "fce39d16",
   "metadata": {
    "execution": {
     "iopub.execute_input": "2023-05-10T03:16:19.734407Z",
     "iopub.status.busy": "2023-05-10T03:16:19.733658Z",
     "iopub.status.idle": "2023-05-10T03:16:23.698999Z",
     "shell.execute_reply": "2023-05-10T03:16:23.697915Z"
    },
    "papermill": {
     "duration": 4.135471,
     "end_time": "2023-05-10T03:16:23.701893",
     "exception": false,
     "start_time": "2023-05-10T03:16:19.566422",
     "status": "completed"
    },
    "tags": []
   },
   "outputs": [],
   "source": [
    "temp_df = temp_df[temp_df[\"prob\"] >= 0.6]"
   ]
  },
  {
   "cell_type": "code",
   "execution_count": 75,
   "id": "d03c7667",
   "metadata": {
    "execution": {
     "iopub.execute_input": "2023-05-10T03:16:24.038811Z",
     "iopub.status.busy": "2023-05-10T03:16:24.038381Z",
     "iopub.status.idle": "2023-05-10T03:16:24.044962Z",
     "shell.execute_reply": "2023-05-10T03:16:24.044002Z"
    },
    "papermill": {
     "duration": 0.177715,
     "end_time": "2023-05-10T03:16:24.047374",
     "exception": false,
     "start_time": "2023-05-10T03:16:23.869659",
     "status": "completed"
    },
    "tags": []
   },
   "outputs": [
    {
     "data": {
      "text/plain": [
       "(761544, 3)"
      ]
     },
     "execution_count": 75,
     "metadata": {},
     "output_type": "execute_result"
    }
   ],
   "source": [
    "temp_df.shape"
   ]
  },
  {
   "cell_type": "code",
   "execution_count": 76,
   "id": "3ad0816e",
   "metadata": {
    "execution": {
     "iopub.execute_input": "2023-05-10T03:16:24.382905Z",
     "iopub.status.busy": "2023-05-10T03:16:24.382490Z",
     "iopub.status.idle": "2023-05-10T03:16:24.594007Z",
     "shell.execute_reply": "2023-05-10T03:16:24.592749Z"
    },
    "papermill": {
     "duration": 0.382321,
     "end_time": "2023-05-10T03:16:24.596862",
     "exception": false,
     "start_time": "2023-05-10T03:16:24.214541",
     "status": "completed"
    },
    "tags": []
   },
   "outputs": [],
   "source": [
    "final_df = pd.concat([final_df, temp_df])\n",
    "del temp_df\n",
    "final_df = final_df.reset_index().drop(\"index\", axis = 1)"
   ]
  },
  {
   "cell_type": "code",
   "execution_count": 77,
   "id": "5c64a36a",
   "metadata": {
    "execution": {
     "iopub.execute_input": "2023-05-10T03:16:24.933890Z",
     "iopub.status.busy": "2023-05-10T03:16:24.933473Z",
     "iopub.status.idle": "2023-05-10T03:16:25.369307Z",
     "shell.execute_reply": "2023-05-10T03:16:25.367954Z"
    },
    "papermill": {
     "duration": 0.607797,
     "end_time": "2023-05-10T03:16:25.371666",
     "exception": false,
     "start_time": "2023-05-10T03:16:24.763869",
     "status": "completed"
    },
    "tags": []
   },
   "outputs": [
    {
     "data": {
      "text/plain": [
       "0"
      ]
     },
     "execution_count": 77,
     "metadata": {},
     "output_type": "execute_result"
    }
   ],
   "source": [
    "gc.collect()"
   ]
  },
  {
   "cell_type": "code",
   "execution_count": 78,
   "id": "17293ffd",
   "metadata": {
    "execution": {
     "iopub.execute_input": "2023-05-10T03:16:25.821572Z",
     "iopub.status.busy": "2023-05-10T03:16:25.821138Z",
     "iopub.status.idle": "2023-05-10T03:16:25.828360Z",
     "shell.execute_reply": "2023-05-10T03:16:25.827212Z"
    },
    "papermill": {
     "duration": 0.178275,
     "end_time": "2023-05-10T03:16:25.830922",
     "exception": false,
     "start_time": "2023-05-10T03:16:25.652647",
     "status": "completed"
    },
    "tags": []
   },
   "outputs": [],
   "source": [
    "temp_df = pd.DataFrame(columns = [\"id\", \"terms\", \"prob\"])"
   ]
  },
  {
   "cell_type": "code",
   "execution_count": 79,
   "id": "f166534e",
   "metadata": {
    "execution": {
     "iopub.execute_input": "2023-05-10T03:16:26.169681Z",
     "iopub.status.busy": "2023-05-10T03:16:26.169290Z",
     "iopub.status.idle": "2023-05-10T03:16:44.072876Z",
     "shell.execute_reply": "2023-05-10T03:16:44.071534Z"
    },
    "papermill": {
     "duration": 18.076741,
     "end_time": "2023-05-10T03:16:44.075905",
     "exception": false,
     "start_time": "2023-05-10T03:16:25.999164",
     "status": "completed"
    },
    "tags": []
   },
   "outputs": [],
   "source": [
    "temp_df[\"id\"] = [id_lst[i] for i in range(90000, 120000) for _ in range(1500)]"
   ]
  },
  {
   "cell_type": "code",
   "execution_count": 80,
   "id": "d486ba18",
   "metadata": {
    "execution": {
     "iopub.execute_input": "2023-05-10T03:16:44.409664Z",
     "iopub.status.busy": "2023-05-10T03:16:44.408817Z",
     "iopub.status.idle": "2023-05-10T03:16:48.300435Z",
     "shell.execute_reply": "2023-05-10T03:16:48.299005Z"
    },
    "papermill": {
     "duration": 4.061882,
     "end_time": "2023-05-10T03:16:48.303426",
     "exception": false,
     "start_time": "2023-05-10T03:16:44.241544",
     "status": "completed"
    },
    "tags": []
   },
   "outputs": [],
   "source": [
    "temp_df[\"terms\"] = considered_one * 30000"
   ]
  },
  {
   "cell_type": "code",
   "execution_count": 81,
   "id": "094f0821",
   "metadata": {
    "execution": {
     "iopub.execute_input": "2023-05-10T03:16:48.638190Z",
     "iopub.status.busy": "2023-05-10T03:16:48.637368Z",
     "iopub.status.idle": "2023-05-10T03:16:56.725107Z",
     "shell.execute_reply": "2023-05-10T03:16:56.724041Z"
    },
    "papermill": {
     "duration": 8.259358,
     "end_time": "2023-05-10T03:16:56.728328",
     "exception": false,
     "start_time": "2023-05-10T03:16:48.468970",
     "status": "completed"
    },
    "tags": []
   },
   "outputs": [],
   "source": [
    "with open('prob_4.pickle', 'rb') as f:\n",
    "    prob_4 = pickle.load(f)"
   ]
  },
  {
   "cell_type": "code",
   "execution_count": 82,
   "id": "6ba9b839",
   "metadata": {
    "execution": {
     "iopub.execute_input": "2023-05-10T03:16:57.082165Z",
     "iopub.status.busy": "2023-05-10T03:16:57.081332Z",
     "iopub.status.idle": "2023-05-10T03:17:24.778723Z",
     "shell.execute_reply": "2023-05-10T03:17:24.777546Z"
    },
    "papermill": {
     "duration": 27.872576,
     "end_time": "2023-05-10T03:17:24.781406",
     "exception": false,
     "start_time": "2023-05-10T03:16:56.908830",
     "status": "completed"
    },
    "tags": []
   },
   "outputs": [],
   "source": [
    "prob_4 = prob_4.toarray().ravel()"
   ]
  },
  {
   "cell_type": "code",
   "execution_count": 83,
   "id": "5240c3ba",
   "metadata": {
    "execution": {
     "iopub.execute_input": "2023-05-10T03:17:25.117016Z",
     "iopub.status.busy": "2023-05-10T03:17:25.116290Z",
     "iopub.status.idle": "2023-05-10T03:17:25.532744Z",
     "shell.execute_reply": "2023-05-10T03:17:25.530993Z"
    },
    "papermill": {
     "duration": 0.589402,
     "end_time": "2023-05-10T03:17:25.536866",
     "exception": false,
     "start_time": "2023-05-10T03:17:24.947464",
     "status": "completed"
    },
    "tags": []
   },
   "outputs": [],
   "source": [
    "temp_df[\"prob\"] = prob_4\n"
   ]
  },
  {
   "cell_type": "code",
   "execution_count": 84,
   "id": "73d65a34",
   "metadata": {
    "execution": {
     "iopub.execute_input": "2023-05-10T03:17:25.872524Z",
     "iopub.status.busy": "2023-05-10T03:17:25.872086Z",
     "iopub.status.idle": "2023-05-10T03:17:25.901243Z",
     "shell.execute_reply": "2023-05-10T03:17:25.900098Z"
    },
    "papermill": {
     "duration": 0.198969,
     "end_time": "2023-05-10T03:17:25.903899",
     "exception": false,
     "start_time": "2023-05-10T03:17:25.704930",
     "status": "completed"
    },
    "tags": []
   },
   "outputs": [],
   "source": [
    "del prob_4"
   ]
  },
  {
   "cell_type": "code",
   "execution_count": 85,
   "id": "e43b8da0",
   "metadata": {
    "execution": {
     "iopub.execute_input": "2023-05-10T03:17:26.238095Z",
     "iopub.status.busy": "2023-05-10T03:17:26.237689Z",
     "iopub.status.idle": "2023-05-10T03:17:30.168485Z",
     "shell.execute_reply": "2023-05-10T03:17:30.167205Z"
    },
    "papermill": {
     "duration": 4.100933,
     "end_time": "2023-05-10T03:17:30.171297",
     "exception": false,
     "start_time": "2023-05-10T03:17:26.070364",
     "status": "completed"
    },
    "tags": []
   },
   "outputs": [],
   "source": [
    "temp_df = temp_df[temp_df[\"prob\"] >= 0.6]"
   ]
  },
  {
   "cell_type": "code",
   "execution_count": 86,
   "id": "d3fc9074",
   "metadata": {
    "execution": {
     "iopub.execute_input": "2023-05-10T03:17:30.506448Z",
     "iopub.status.busy": "2023-05-10T03:17:30.505587Z",
     "iopub.status.idle": "2023-05-10T03:17:30.512048Z",
     "shell.execute_reply": "2023-05-10T03:17:30.510979Z"
    },
    "papermill": {
     "duration": 0.176277,
     "end_time": "2023-05-10T03:17:30.514266",
     "exception": false,
     "start_time": "2023-05-10T03:17:30.337989",
     "status": "completed"
    },
    "tags": []
   },
   "outputs": [
    {
     "data": {
      "text/plain": [
       "(717937, 3)"
      ]
     },
     "execution_count": 86,
     "metadata": {},
     "output_type": "execute_result"
    }
   ],
   "source": [
    "temp_df.shape"
   ]
  },
  {
   "cell_type": "code",
   "execution_count": 87,
   "id": "0510331d",
   "metadata": {
    "execution": {
     "iopub.execute_input": "2023-05-10T03:17:30.854878Z",
     "iopub.status.busy": "2023-05-10T03:17:30.854117Z",
     "iopub.status.idle": "2023-05-10T03:17:31.120736Z",
     "shell.execute_reply": "2023-05-10T03:17:31.119425Z"
    },
    "papermill": {
     "duration": 0.436019,
     "end_time": "2023-05-10T03:17:31.123452",
     "exception": false,
     "start_time": "2023-05-10T03:17:30.687433",
     "status": "completed"
    },
    "tags": []
   },
   "outputs": [],
   "source": [
    "final_df = pd.concat([final_df, temp_df])\n",
    "del temp_df\n",
    "final_df = final_df.reset_index().drop(\"index\", axis = 1)"
   ]
  },
  {
   "cell_type": "code",
   "execution_count": 88,
   "id": "032fa2e7",
   "metadata": {
    "execution": {
     "iopub.execute_input": "2023-05-10T03:17:31.457437Z",
     "iopub.status.busy": "2023-05-10T03:17:31.456988Z",
     "iopub.status.idle": "2023-05-10T03:17:31.883964Z",
     "shell.execute_reply": "2023-05-10T03:17:31.882830Z"
    },
    "papermill": {
     "duration": 0.597871,
     "end_time": "2023-05-10T03:17:31.886368",
     "exception": false,
     "start_time": "2023-05-10T03:17:31.288497",
     "status": "completed"
    },
    "tags": []
   },
   "outputs": [
    {
     "data": {
      "text/plain": [
       "0"
      ]
     },
     "execution_count": 88,
     "metadata": {},
     "output_type": "execute_result"
    }
   ],
   "source": [
    "gc.collect()"
   ]
  },
  {
   "cell_type": "code",
   "execution_count": 89,
   "id": "1eac855a",
   "metadata": {
    "execution": {
     "iopub.execute_input": "2023-05-10T03:17:32.224010Z",
     "iopub.status.busy": "2023-05-10T03:17:32.223382Z",
     "iopub.status.idle": "2023-05-10T03:17:32.229725Z",
     "shell.execute_reply": "2023-05-10T03:17:32.228875Z"
    },
    "papermill": {
     "duration": 0.176902,
     "end_time": "2023-05-10T03:17:32.232156",
     "exception": false,
     "start_time": "2023-05-10T03:17:32.055254",
     "status": "completed"
    },
    "tags": []
   },
   "outputs": [],
   "source": [
    "temp_df = pd.DataFrame(columns = [\"id\", \"terms\", \"prob\"])"
   ]
  },
  {
   "cell_type": "code",
   "execution_count": 90,
   "id": "05227053",
   "metadata": {
    "execution": {
     "iopub.execute_input": "2023-05-10T03:17:32.569489Z",
     "iopub.status.busy": "2023-05-10T03:17:32.569022Z",
     "iopub.status.idle": "2023-05-10T03:17:45.631705Z",
     "shell.execute_reply": "2023-05-10T03:17:45.630799Z"
    },
    "papermill": {
     "duration": 13.234825,
     "end_time": "2023-05-10T03:17:45.634367",
     "exception": false,
     "start_time": "2023-05-10T03:17:32.399542",
     "status": "completed"
    },
    "tags": []
   },
   "outputs": [],
   "source": [
    "temp_df[\"id\"] = [id_lst[i] for i in range(120000, 141865) for _ in range(1500)]"
   ]
  },
  {
   "cell_type": "code",
   "execution_count": 91,
   "id": "cb1b6f08",
   "metadata": {
    "execution": {
     "iopub.execute_input": "2023-05-10T03:17:46.046246Z",
     "iopub.status.busy": "2023-05-10T03:17:46.045607Z",
     "iopub.status.idle": "2023-05-10T03:17:48.859725Z",
     "shell.execute_reply": "2023-05-10T03:17:48.858729Z"
    },
    "papermill": {
     "duration": 2.98747,
     "end_time": "2023-05-10T03:17:48.862361",
     "exception": false,
     "start_time": "2023-05-10T03:17:45.874891",
     "status": "completed"
    },
    "tags": []
   },
   "outputs": [],
   "source": [
    "temp_df[\"terms\"] = considered_one * 21865"
   ]
  },
  {
   "cell_type": "code",
   "execution_count": 92,
   "id": "a16dbc18",
   "metadata": {
    "execution": {
     "iopub.execute_input": "2023-05-10T03:17:49.198914Z",
     "iopub.status.busy": "2023-05-10T03:17:49.198114Z",
     "iopub.status.idle": "2023-05-10T03:17:54.904304Z",
     "shell.execute_reply": "2023-05-10T03:17:54.903260Z"
    },
    "papermill": {
     "duration": 5.878842,
     "end_time": "2023-05-10T03:17:54.907424",
     "exception": false,
     "start_time": "2023-05-10T03:17:49.028582",
     "status": "completed"
    },
    "tags": []
   },
   "outputs": [],
   "source": [
    "with open('prob_5.pickle', 'rb') as f:\n",
    "    prob_5 = pickle.load(f)"
   ]
  },
  {
   "cell_type": "code",
   "execution_count": 93,
   "id": "dc6c85b8",
   "metadata": {
    "execution": {
     "iopub.execute_input": "2023-05-10T03:17:55.244194Z",
     "iopub.status.busy": "2023-05-10T03:17:55.243794Z",
     "iopub.status.idle": "2023-05-10T03:18:15.185017Z",
     "shell.execute_reply": "2023-05-10T03:18:15.183807Z"
    },
    "papermill": {
     "duration": 20.112934,
     "end_time": "2023-05-10T03:18:15.188069",
     "exception": false,
     "start_time": "2023-05-10T03:17:55.075135",
     "status": "completed"
    },
    "tags": []
   },
   "outputs": [],
   "source": [
    "prob_5 = prob_5.toarray().ravel()"
   ]
  },
  {
   "cell_type": "code",
   "execution_count": 94,
   "id": "283270b5",
   "metadata": {
    "execution": {
     "iopub.execute_input": "2023-05-10T03:18:15.527027Z",
     "iopub.status.busy": "2023-05-10T03:18:15.526558Z",
     "iopub.status.idle": "2023-05-10T03:18:15.820211Z",
     "shell.execute_reply": "2023-05-10T03:18:15.819171Z"
    },
    "papermill": {
     "duration": 0.468208,
     "end_time": "2023-05-10T03:18:15.822791",
     "exception": false,
     "start_time": "2023-05-10T03:18:15.354583",
     "status": "completed"
    },
    "tags": []
   },
   "outputs": [],
   "source": [
    "temp_df[\"prob\"] = prob_5"
   ]
  },
  {
   "cell_type": "code",
   "execution_count": 95,
   "id": "085ee0d9",
   "metadata": {
    "execution": {
     "iopub.execute_input": "2023-05-10T03:18:16.159533Z",
     "iopub.status.busy": "2023-05-10T03:18:16.158470Z",
     "iopub.status.idle": "2023-05-10T03:18:16.181648Z",
     "shell.execute_reply": "2023-05-10T03:18:16.180557Z"
    },
    "papermill": {
     "duration": 0.196062,
     "end_time": "2023-05-10T03:18:16.184239",
     "exception": false,
     "start_time": "2023-05-10T03:18:15.988177",
     "status": "completed"
    },
    "tags": []
   },
   "outputs": [],
   "source": [
    "del prob_5"
   ]
  },
  {
   "cell_type": "code",
   "execution_count": 96,
   "id": "13feac9b",
   "metadata": {
    "execution": {
     "iopub.execute_input": "2023-05-10T03:18:16.523289Z",
     "iopub.status.busy": "2023-05-10T03:18:16.522862Z",
     "iopub.status.idle": "2023-05-10T03:18:19.380592Z",
     "shell.execute_reply": "2023-05-10T03:18:19.379259Z"
    },
    "papermill": {
     "duration": 3.031973,
     "end_time": "2023-05-10T03:18:19.383657",
     "exception": false,
     "start_time": "2023-05-10T03:18:16.351684",
     "status": "completed"
    },
    "tags": []
   },
   "outputs": [],
   "source": [
    "temp_df = temp_df[temp_df[\"prob\"] >= 0.6]"
   ]
  },
  {
   "cell_type": "code",
   "execution_count": 97,
   "id": "57d60220",
   "metadata": {
    "execution": {
     "iopub.execute_input": "2023-05-10T03:18:19.718797Z",
     "iopub.status.busy": "2023-05-10T03:18:19.717367Z",
     "iopub.status.idle": "2023-05-10T03:18:19.724898Z",
     "shell.execute_reply": "2023-05-10T03:18:19.723951Z"
    },
    "papermill": {
     "duration": 0.177253,
     "end_time": "2023-05-10T03:18:19.727186",
     "exception": false,
     "start_time": "2023-05-10T03:18:19.549933",
     "status": "completed"
    },
    "tags": []
   },
   "outputs": [
    {
     "data": {
      "text/plain": [
       "(526417, 3)"
      ]
     },
     "execution_count": 97,
     "metadata": {},
     "output_type": "execute_result"
    }
   ],
   "source": [
    "temp_df.shape"
   ]
  },
  {
   "cell_type": "code",
   "execution_count": 98,
   "id": "4a4de5fd",
   "metadata": {
    "execution": {
     "iopub.execute_input": "2023-05-10T03:18:20.063096Z",
     "iopub.status.busy": "2023-05-10T03:18:20.062376Z",
     "iopub.status.idle": "2023-05-10T03:18:20.367857Z",
     "shell.execute_reply": "2023-05-10T03:18:20.366559Z"
    },
    "papermill": {
     "duration": 0.476734,
     "end_time": "2023-05-10T03:18:20.370553",
     "exception": false,
     "start_time": "2023-05-10T03:18:19.893819",
     "status": "completed"
    },
    "tags": []
   },
   "outputs": [],
   "source": [
    "final_df = pd.concat([final_df, temp_df])\n",
    "del temp_df\n",
    "final_df = final_df.reset_index().drop(\"index\", axis = 1)"
   ]
  },
  {
   "cell_type": "code",
   "execution_count": 99,
   "id": "2afc7e5e",
   "metadata": {
    "execution": {
     "iopub.execute_input": "2023-05-10T03:18:20.708024Z",
     "iopub.status.busy": "2023-05-10T03:18:20.707603Z",
     "iopub.status.idle": "2023-05-10T03:18:20.714021Z",
     "shell.execute_reply": "2023-05-10T03:18:20.713135Z"
    },
    "papermill": {
     "duration": 0.177498,
     "end_time": "2023-05-10T03:18:20.716020",
     "exception": false,
     "start_time": "2023-05-10T03:18:20.538522",
     "status": "completed"
    },
    "tags": []
   },
   "outputs": [
    {
     "data": {
      "text/plain": [
       "(3962378, 3)"
      ]
     },
     "execution_count": 99,
     "metadata": {},
     "output_type": "execute_result"
    }
   ],
   "source": [
    "final_df.shape"
   ]
  },
  {
   "cell_type": "code",
   "execution_count": 100,
   "id": "8066179b",
   "metadata": {
    "execution": {
     "iopub.execute_input": "2023-05-10T03:18:21.054052Z",
     "iopub.status.busy": "2023-05-10T03:18:21.052902Z",
     "iopub.status.idle": "2023-05-10T03:18:38.263264Z",
     "shell.execute_reply": "2023-05-10T03:18:38.262150Z"
    },
    "papermill": {
     "duration": 17.383265,
     "end_time": "2023-05-10T03:18:38.266006",
     "exception": false,
     "start_time": "2023-05-10T03:18:20.882741",
     "status": "completed"
    },
    "tags": []
   },
   "outputs": [],
   "source": [
    "# make the submission\n",
    "final_df.to_csv(\"submission.tsv\", index = False, sep = \"\\t\")"
   ]
  },
  {
   "cell_type": "code",
   "execution_count": null,
   "id": "df804e3d",
   "metadata": {
    "papermill": {
     "duration": 0.167203,
     "end_time": "2023-05-10T03:18:38.601610",
     "exception": false,
     "start_time": "2023-05-10T03:18:38.434407",
     "status": "completed"
    },
    "tags": []
   },
   "outputs": [],
   "source": []
  }
 ],
 "metadata": {
  "kernelspec": {
   "display_name": "Python 3",
   "language": "python",
   "name": "python3"
  },
  "language_info": {
   "codemirror_mode": {
    "name": "ipython",
    "version": 3
   },
   "file_extension": ".py",
   "mimetype": "text/x-python",
   "name": "python",
   "nbconvert_exporter": "python",
   "pygments_lexer": "ipython3",
   "version": "3.10.10"
  },
  "papermill": {
   "default_parameters": {},
   "duration": 1885.141022,
   "end_time": "2023-05-10T03:18:42.070972",
   "environment_variables": {},
   "exception": null,
   "input_path": "__notebook__.ipynb",
   "output_path": "__notebook__.ipynb",
   "parameters": {},
   "start_time": "2023-05-10T02:47:16.929950",
   "version": "2.4.0"
  }
 },
 "nbformat": 4,
 "nbformat_minor": 5
}
